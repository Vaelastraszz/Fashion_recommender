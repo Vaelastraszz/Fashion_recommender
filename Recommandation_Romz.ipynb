{
  "nbformat": 4,
  "nbformat_minor": 0,
  "metadata": {
    "colab": {
      "name": "Recommandation Romz.ipynb",
      "provenance": [],
      "collapsed_sections": [],
      "include_colab_link": true
    },
    "kernelspec": {
      "name": "python3",
      "display_name": "Python 3"
    }
  },
  "cells": [
    {
      "cell_type": "markdown",
      "metadata": {
        "id": "view-in-github",
        "colab_type": "text"
      },
      "source": [
        "<a href=\"https://colab.research.google.com/github/Vaelastraszz/Fashion_recommender/blob/master/Recommandation_Romz.ipynb\" target=\"_parent\"><img src=\"https://colab.research.google.com/assets/colab-badge.svg\" alt=\"Open In Colab\"/></a>"
      ]
    },
    {
      "cell_type": "code",
      "metadata": {
        "id": "aTSOeqxQz8oj",
        "colab_type": "code",
        "outputId": "dcae38ff-4cd3-4ade-99bb-2c466427749b",
        "colab": {
          "base_uri": "https://localhost:8080/",
          "height": 122
        }
      },
      "source": [
        "import sys\n",
        "import pandas as pd\n",
        "import matplotlib.pyplot as plt\n",
        "import numpy as np\n",
        "\n",
        "from google.colab import drive\n",
        "\n",
        "drive.mount('/content/gdrive')"
      ],
      "execution_count": 0,
      "outputs": [
        {
          "output_type": "stream",
          "text": [
            "Go to this URL in a browser: https://accounts.google.com/o/oauth2/auth?client_id=947318989803-6bn6qk8qdgf4n4g3pfee6491hc0brc4i.apps.googleusercontent.com&redirect_uri=urn%3Aietf%3Awg%3Aoauth%3A2.0%3Aoob&scope=email%20https%3A%2F%2Fwww.googleapis.com%2Fauth%2Fdocs.test%20https%3A%2F%2Fwww.googleapis.com%2Fauth%2Fdrive%20https%3A%2F%2Fwww.googleapis.com%2Fauth%2Fdrive.photos.readonly%20https%3A%2F%2Fwww.googleapis.com%2Fauth%2Fpeopleapi.readonly&response_type=code\n",
            "\n",
            "Enter your authorization code:\n",
            "··········\n",
            "Mounted at /content/gdrive\n"
          ],
          "name": "stdout"
        }
      ]
    },
    {
      "cell_type": "code",
      "metadata": {
        "id": "-4clVgzwL2-7",
        "colab_type": "code",
        "colab": {}
      },
      "source": [
        "pd.options.display.max_columns = None"
      ],
      "execution_count": 0,
      "outputs": []
    },
    {
      "cell_type": "code",
      "metadata": {
        "id": "rtlsII3I0DGJ",
        "colab_type": "code",
        "colab": {}
      },
      "source": [
        "order = pd.read_excel('/content/gdrive/My Drive/Interview/Reco/Orders.xlsx')\n",
        "products = pd.read_excel('/content/gdrive/My Drive/Interview/Reco/Products.xlsx')\n",
        "users = pd.read_excel('/content/gdrive/My Drive/Interview/Reco/Users.xlsx')\n",
        "clickstream = pd.read_csv('/content/gdrive/My Drive/Interview/Reco/Clickstream.csv')\n",
        "click_user = pd.read_csv('/content/gdrive/My Drive/Interview/Reco/ClickstreamUserActions.csv')"
      ],
      "execution_count": 0,
      "outputs": []
    },
    {
      "cell_type": "markdown",
      "metadata": {
        "id": "SYUpKA0DNzzU",
        "colab_type": "text"
      },
      "source": [
        "<h2> Overview of the different data sources </h2>"
      ]
    },
    {
      "cell_type": "markdown",
      "metadata": {
        "id": "3CKCd4JVN4pY",
        "colab_type": "text"
      },
      "source": [
        "<h3> Orders </h3>"
      ]
    },
    {
      "cell_type": "code",
      "metadata": {
        "id": "2TcH9hJPLr3m",
        "colab_type": "code",
        "outputId": "aed64e1f-0ded-4f99-f04d-d8c44835af84",
        "colab": {
          "base_uri": "https://localhost:8080/",
          "height": 292
        }
      },
      "source": [
        "order.head()"
      ],
      "execution_count": 0,
      "outputs": [
        {
          "output_type": "execute_result",
          "data": {
            "text/html": [
              "<div>\n",
              "<style scoped>\n",
              "    .dataframe tbody tr th:only-of-type {\n",
              "        vertical-align: middle;\n",
              "    }\n",
              "\n",
              "    .dataframe tbody tr th {\n",
              "        vertical-align: top;\n",
              "    }\n",
              "\n",
              "    .dataframe thead th {\n",
              "        text-align: right;\n",
              "    }\n",
              "</style>\n",
              "<table border=\"1\" class=\"dataframe\">\n",
              "  <thead>\n",
              "    <tr style=\"text-align: right;\">\n",
              "      <th></th>\n",
              "      <th>orderportalid</th>\n",
              "      <th>OrderCode</th>\n",
              "      <th>OrderDate</th>\n",
              "      <th>ProductId</th>\n",
              "      <th>ProductGender</th>\n",
              "      <th>UserID</th>\n",
              "      <th>CustomerCurrency</th>\n",
              "      <th>Country</th>\n",
              "      <th>Quantity</th>\n",
              "      <th>Revenue_GBP</th>\n",
              "    </tr>\n",
              "  </thead>\n",
              "  <tbody>\n",
              "    <tr>\n",
              "      <th>0</th>\n",
              "      <td>1677298</td>\n",
              "      <td>FAZR</td>\n",
              "      <td>20150109</td>\n",
              "      <td>10872723</td>\n",
              "      <td>WOMEN</td>\n",
              "      <td>0x20A9048DB67131045B50CA50396C57D8</td>\n",
              "      <td>EUR</td>\n",
              "      <td>Spain</td>\n",
              "      <td>1</td>\n",
              "      <td>3.94</td>\n",
              "    </tr>\n",
              "    <tr>\n",
              "      <th>1</th>\n",
              "      <td>1691991</td>\n",
              "      <td>Z6AL</td>\n",
              "      <td>20150122</td>\n",
              "      <td>10810380</td>\n",
              "      <td>WOMEN</td>\n",
              "      <td>0xC342A73AD982F596D81A82FF259F2B23</td>\n",
              "      <td>USD</td>\n",
              "      <td>United States</td>\n",
              "      <td>1</td>\n",
              "      <td>4.47</td>\n",
              "    </tr>\n",
              "    <tr>\n",
              "      <th>2</th>\n",
              "      <td>1768756</td>\n",
              "      <td>TCQH</td>\n",
              "      <td>20150105</td>\n",
              "      <td>10719956</td>\n",
              "      <td>MEN</td>\n",
              "      <td>0xBAD31200867432B0BD880B3BB21B09DA</td>\n",
              "      <td>GBP</td>\n",
              "      <td>United Kingdom</td>\n",
              "      <td>1</td>\n",
              "      <td>1.55</td>\n",
              "    </tr>\n",
              "    <tr>\n",
              "      <th>3</th>\n",
              "      <td>1768756</td>\n",
              "      <td>TCQH</td>\n",
              "      <td>20150105</td>\n",
              "      <td>10722834</td>\n",
              "      <td>MEN</td>\n",
              "      <td>0xBAD31200867432B0BD880B3BB21B09DA</td>\n",
              "      <td>GBP</td>\n",
              "      <td>United Kingdom</td>\n",
              "      <td>1</td>\n",
              "      <td>1.55</td>\n",
              "    </tr>\n",
              "    <tr>\n",
              "      <th>4</th>\n",
              "      <td>1783005</td>\n",
              "      <td>WH9S</td>\n",
              "      <td>20150106</td>\n",
              "      <td>10717215</td>\n",
              "      <td>WOMEN</td>\n",
              "      <td>0x2640A82A65D3446DBCE5F9EB29C1D36D</td>\n",
              "      <td>USD</td>\n",
              "      <td>United States</td>\n",
              "      <td>1</td>\n",
              "      <td>8.60</td>\n",
              "    </tr>\n",
              "  </tbody>\n",
              "</table>\n",
              "</div>"
            ],
            "text/plain": [
              "   orderportalid OrderCode  OrderDate  ...         Country Quantity Revenue_GBP\n",
              "0        1677298      FAZR   20150109  ...           Spain        1        3.94\n",
              "1        1691991      Z6AL   20150122  ...   United States        1        4.47\n",
              "2        1768756      TCQH   20150105  ...  United Kingdom        1        1.55\n",
              "3        1768756      TCQH   20150105  ...  United Kingdom        1        1.55\n",
              "4        1783005      WH9S   20150106  ...   United States        1        8.60\n",
              "\n",
              "[5 rows x 10 columns]"
            ]
          },
          "metadata": {
            "tags": []
          },
          "execution_count": 3
        }
      ]
    },
    {
      "cell_type": "markdown",
      "metadata": {
        "id": "r_df-WZUN7Eq",
        "colab_type": "text"
      },
      "source": [
        "<h3> Products </h3>"
      ]
    },
    {
      "cell_type": "code",
      "metadata": {
        "id": "iBzIqYb_LwmD",
        "colab_type": "code",
        "outputId": "29b69815-600d-4daa-cc9b-2de220fbffee",
        "colab": {
          "base_uri": "https://localhost:8080/",
          "height": 513
        }
      },
      "source": [
        "products.head()"
      ],
      "execution_count": 0,
      "outputs": [
        {
          "output_type": "execute_result",
          "data": {
            "text/html": [
              "<div>\n",
              "<style scoped>\n",
              "    .dataframe tbody tr th:only-of-type {\n",
              "        vertical-align: middle;\n",
              "    }\n",
              "\n",
              "    .dataframe tbody tr th {\n",
              "        vertical-align: top;\n",
              "    }\n",
              "\n",
              "    .dataframe thead th {\n",
              "        text-align: right;\n",
              "    }\n",
              "</style>\n",
              "<table border=\"1\" class=\"dataframe\">\n",
              "  <thead>\n",
              "    <tr style=\"text-align: right;\">\n",
              "      <th></th>\n",
              "      <th>ProductID</th>\n",
              "      <th>ProductName</th>\n",
              "      <th>Family</th>\n",
              "      <th>Category</th>\n",
              "      <th>SeasonOriginal</th>\n",
              "      <th>Brand</th>\n",
              "      <th>MainColour</th>\n",
              "      <th>ItemURL</th>\n",
              "      <th>PictureURL</th>\n",
              "      <th>Department</th>\n",
              "      <th>Gender</th>\n",
              "    </tr>\n",
              "  </thead>\n",
              "  <tbody>\n",
              "    <tr>\n",
              "      <th>0</th>\n",
              "      <td>10924361</td>\n",
              "      <td>ÁGUA DE COCO 7909082768538 COLORIDO ??? Polyester</td>\n",
              "      <td>Clothing</td>\n",
              "      <td>Dresses</td>\n",
              "      <td>SS14</td>\n",
              "      <td>ÁGUA DE COCO</td>\n",
              "      <td>BLUE</td>\n",
              "      <td>http://www.farfetch.com/shopping/item10924361....</td>\n",
              "      <td>http://cdn-images.farfetch.com/10/92/43/61/109...</td>\n",
              "      <td>Lab</td>\n",
              "      <td>WOMEN</td>\n",
              "    </tr>\n",
              "    <tr>\n",
              "      <th>1</th>\n",
              "      <td>10924362</td>\n",
              "      <td>ÁGUA DE COCO 7909082770470 COLORIDO ??? Viscose</td>\n",
              "      <td>Clothing</td>\n",
              "      <td>Dresses</td>\n",
              "      <td>SS14</td>\n",
              "      <td>ÁGUA DE COCO</td>\n",
              "      <td>RED</td>\n",
              "      <td>http://www.farfetch.com/shopping/item10924362....</td>\n",
              "      <td>http://cdn-images.farfetch.com/10/92/43/62/109...</td>\n",
              "      <td>Lab</td>\n",
              "      <td>WOMEN</td>\n",
              "    </tr>\n",
              "    <tr>\n",
              "      <th>2</th>\n",
              "      <td>10924376</td>\n",
              "      <td>MARIES ROBE DE NUIT 1421010070101 OFF WHITE ??...</td>\n",
              "      <td>Clothing</td>\n",
              "      <td>Lingerie &amp; Hosiery</td>\n",
              "      <td>SS14</td>\n",
              "      <td>MARIES ROBE DE NUIT</td>\n",
              "      <td>WHITE</td>\n",
              "      <td>http://www.farfetch.com/shopping/item10924376....</td>\n",
              "      <td>http://cdn-images.farfetch.com/10/92/43/76/109...</td>\n",
              "      <td>Lab</td>\n",
              "      <td>WOMEN</td>\n",
              "    </tr>\n",
              "    <tr>\n",
              "      <th>3</th>\n",
              "      <td>10924379</td>\n",
              "      <td>MARIES ROBE DE NUIT 1410300050305 VERDE ??? Vi...</td>\n",
              "      <td>Clothing</td>\n",
              "      <td>Lingerie &amp; Hosiery</td>\n",
              "      <td>SS14</td>\n",
              "      <td>MARIES ROBE DE NUIT</td>\n",
              "      <td>GREEN</td>\n",
              "      <td>http://www.farfetch.com/shopping/item10924379....</td>\n",
              "      <td>http://cdn-images.farfetch.com/10/92/43/79/109...</td>\n",
              "      <td>Lab</td>\n",
              "      <td>WOMEN</td>\n",
              "    </tr>\n",
              "    <tr>\n",
              "      <th>4</th>\n",
              "      <td>10924411</td>\n",
              "      <td>pebbled clutch</td>\n",
              "      <td>Bags</td>\n",
              "      <td>Clutches</td>\n",
              "      <td>SS15</td>\n",
              "      <td>LANVIN</td>\n",
              "      <td>BLACK</td>\n",
              "      <td>http://www.farfetch.com/shopping/item10924411....</td>\n",
              "      <td>http://cdn-images.farfetch.com/10/92/44/11/109...</td>\n",
              "      <td>Luxe</td>\n",
              "      <td>WOMEN</td>\n",
              "    </tr>\n",
              "  </tbody>\n",
              "</table>\n",
              "</div>"
            ],
            "text/plain": [
              "  ProductID                                        ProductName    Family  \\\n",
              "0  10924361  ÁGUA DE COCO 7909082768538 COLORIDO ??? Polyester  Clothing   \n",
              "1  10924362    ÁGUA DE COCO 7909082770470 COLORIDO ??? Viscose  Clothing   \n",
              "2  10924376  MARIES ROBE DE NUIT 1421010070101 OFF WHITE ??...  Clothing   \n",
              "3  10924379  MARIES ROBE DE NUIT 1410300050305 VERDE ??? Vi...  Clothing   \n",
              "4  10924411                                     pebbled clutch      Bags   \n",
              "\n",
              "             Category SeasonOriginal                Brand MainColour  \\\n",
              "0             Dresses           SS14         ÁGUA DE COCO       BLUE   \n",
              "1             Dresses           SS14         ÁGUA DE COCO        RED   \n",
              "2  Lingerie & Hosiery           SS14  MARIES ROBE DE NUIT      WHITE   \n",
              "3  Lingerie & Hosiery           SS14  MARIES ROBE DE NUIT      GREEN   \n",
              "4            Clutches           SS15               LANVIN      BLACK   \n",
              "\n",
              "                                             ItemURL  \\\n",
              "0  http://www.farfetch.com/shopping/item10924361....   \n",
              "1  http://www.farfetch.com/shopping/item10924362....   \n",
              "2  http://www.farfetch.com/shopping/item10924376....   \n",
              "3  http://www.farfetch.com/shopping/item10924379....   \n",
              "4  http://www.farfetch.com/shopping/item10924411....   \n",
              "\n",
              "                                          PictureURL Department Gender  \n",
              "0  http://cdn-images.farfetch.com/10/92/43/61/109...        Lab  WOMEN  \n",
              "1  http://cdn-images.farfetch.com/10/92/43/62/109...        Lab  WOMEN  \n",
              "2  http://cdn-images.farfetch.com/10/92/43/76/109...        Lab  WOMEN  \n",
              "3  http://cdn-images.farfetch.com/10/92/43/79/109...        Lab  WOMEN  \n",
              "4  http://cdn-images.farfetch.com/10/92/44/11/109...       Luxe  WOMEN  "
            ]
          },
          "metadata": {
            "tags": []
          },
          "execution_count": 64
        }
      ]
    },
    {
      "cell_type": "markdown",
      "metadata": {
        "id": "rxJbXgPNN9o1",
        "colab_type": "text"
      },
      "source": [
        "<h3> Users </h3>"
      ]
    },
    {
      "cell_type": "code",
      "metadata": {
        "id": "wUY1uu7yNPH4",
        "colab_type": "code",
        "outputId": "ec0af9e8-115b-4246-b844-85e15fa0e22e",
        "colab": {
          "base_uri": "https://localhost:8080/",
          "height": 309
        }
      },
      "source": [
        "users.head()"
      ],
      "execution_count": 0,
      "outputs": [
        {
          "output_type": "execute_result",
          "data": {
            "text/html": [
              "<div>\n",
              "<style scoped>\n",
              "    .dataframe tbody tr th:only-of-type {\n",
              "        vertical-align: middle;\n",
              "    }\n",
              "\n",
              "    .dataframe tbody tr th {\n",
              "        vertical-align: top;\n",
              "    }\n",
              "\n",
              "    .dataframe thead th {\n",
              "        text-align: right;\n",
              "    }\n",
              "</style>\n",
              "<table border=\"1\" class=\"dataframe\">\n",
              "  <thead>\n",
              "    <tr style=\"text-align: right;\">\n",
              "      <th></th>\n",
              "      <th>UserID</th>\n",
              "      <th>Gender</th>\n",
              "      <th>UserType</th>\n",
              "      <th>IsSubscribed</th>\n",
              "      <th>Birthday</th>\n",
              "      <th>HasUsedWishlist</th>\n",
              "      <th>HasItemsOnBag</th>\n",
              "      <th>IsUsingMultipleDevices</th>\n",
              "      <th>IsPersonalShopper</th>\n",
              "      <th>IsVIP</th>\n",
              "    </tr>\n",
              "  </thead>\n",
              "  <tbody>\n",
              "    <tr>\n",
              "      <th>0</th>\n",
              "      <td>0x0D3056570A0D90872B31C6F414DF021D</td>\n",
              "      <td>Women</td>\n",
              "      <td>Customer</td>\n",
              "      <td>Yes</td>\n",
              "      <td>NaT</td>\n",
              "      <td>Yes</td>\n",
              "      <td>Yes</td>\n",
              "      <td>Yes</td>\n",
              "      <td>No</td>\n",
              "      <td>Not VIP</td>\n",
              "    </tr>\n",
              "    <tr>\n",
              "      <th>1</th>\n",
              "      <td>0x96D2E60551F80B7AE46EE722C30221B0</td>\n",
              "      <td>N/D</td>\n",
              "      <td>Customer</td>\n",
              "      <td>No</td>\n",
              "      <td>NaT</td>\n",
              "      <td>No</td>\n",
              "      <td>No</td>\n",
              "      <td>Yes</td>\n",
              "      <td>No</td>\n",
              "      <td>Not VIP</td>\n",
              "    </tr>\n",
              "    <tr>\n",
              "      <th>2</th>\n",
              "      <td>0x69093F1011A2BD322D8A87009A8494AC</td>\n",
              "      <td>N/D</td>\n",
              "      <td>Customer</td>\n",
              "      <td>No</td>\n",
              "      <td>NaT</td>\n",
              "      <td>No</td>\n",
              "      <td>No</td>\n",
              "      <td>No</td>\n",
              "      <td>No</td>\n",
              "      <td>Not VIP</td>\n",
              "    </tr>\n",
              "    <tr>\n",
              "      <th>3</th>\n",
              "      <td>0xA841752499FF55CFF73856B1847EE978</td>\n",
              "      <td>Women</td>\n",
              "      <td>Customer</td>\n",
              "      <td>No</td>\n",
              "      <td>NaT</td>\n",
              "      <td>Yes</td>\n",
              "      <td>No</td>\n",
              "      <td>Yes</td>\n",
              "      <td>No</td>\n",
              "      <td>Not VIP</td>\n",
              "    </tr>\n",
              "    <tr>\n",
              "      <th>4</th>\n",
              "      <td>0x2D3A37B5AFF04368D1ABD1F3E8465426</td>\n",
              "      <td>Women</td>\n",
              "      <td>Customer</td>\n",
              "      <td>No</td>\n",
              "      <td>NaT</td>\n",
              "      <td>No</td>\n",
              "      <td>Yes</td>\n",
              "      <td>No</td>\n",
              "      <td>No</td>\n",
              "      <td>Not VIP</td>\n",
              "    </tr>\n",
              "  </tbody>\n",
              "</table>\n",
              "</div>"
            ],
            "text/plain": [
              "                               UserID Gender  UserType IsSubscribed Birthday  \\\n",
              "0  0x0D3056570A0D90872B31C6F414DF021D  Women  Customer          Yes      NaT   \n",
              "1  0x96D2E60551F80B7AE46EE722C30221B0    N/D  Customer           No      NaT   \n",
              "2  0x69093F1011A2BD322D8A87009A8494AC    N/D  Customer           No      NaT   \n",
              "3  0xA841752499FF55CFF73856B1847EE978  Women  Customer           No      NaT   \n",
              "4  0x2D3A37B5AFF04368D1ABD1F3E8465426  Women  Customer           No      NaT   \n",
              "\n",
              "  HasUsedWishlist HasItemsOnBag IsUsingMultipleDevices IsPersonalShopper  \\\n",
              "0             Yes           Yes                    Yes                No   \n",
              "1              No            No                    Yes                No   \n",
              "2              No            No                     No                No   \n",
              "3             Yes            No                    Yes                No   \n",
              "4              No           Yes                     No                No   \n",
              "\n",
              "     IsVIP  \n",
              "0  Not VIP  \n",
              "1  Not VIP  \n",
              "2  Not VIP  \n",
              "3  Not VIP  \n",
              "4  Not VIP  "
            ]
          },
          "metadata": {
            "tags": []
          },
          "execution_count": 9
        }
      ]
    },
    {
      "cell_type": "markdown",
      "metadata": {
        "id": "bwZdmSYkOCJo",
        "colab_type": "text"
      },
      "source": [
        "<h3> Clickstream </h3>"
      ]
    },
    {
      "cell_type": "code",
      "metadata": {
        "id": "ZyZePPomNdg1",
        "colab_type": "code",
        "outputId": "d3ac1096-002d-4e2e-ecec-4ad988e66dc6",
        "colab": {
          "base_uri": "https://localhost:8080/",
          "height": 309
        }
      },
      "source": [
        "clickstream.head()"
      ],
      "execution_count": 0,
      "outputs": [
        {
          "output_type": "execute_result",
          "data": {
            "text/html": [
              "<div>\n",
              "<style scoped>\n",
              "    .dataframe tbody tr th:only-of-type {\n",
              "        vertical-align: middle;\n",
              "    }\n",
              "\n",
              "    .dataframe tbody tr th {\n",
              "        vertical-align: top;\n",
              "    }\n",
              "\n",
              "    .dataframe thead th {\n",
              "        text-align: right;\n",
              "    }\n",
              "</style>\n",
              "<table border=\"1\" class=\"dataframe\">\n",
              "  <thead>\n",
              "    <tr style=\"text-align: right;\">\n",
              "      <th></th>\n",
              "      <th>PageViewDate</th>\n",
              "      <th>sessionid</th>\n",
              "      <th>SessionIdFinal</th>\n",
              "      <th>CookieID</th>\n",
              "      <th>PageType</th>\n",
              "      <th>PageSubType</th>\n",
              "      <th>PageURL</th>\n",
              "      <th>Referral</th>\n",
              "      <th>ProductID</th>\n",
              "      <th>UserID</th>\n",
              "      <th>UserIDIdentified</th>\n",
              "      <th>GeoSubfolder</th>\n",
              "      <th>orderportalid</th>\n",
              "    </tr>\n",
              "  </thead>\n",
              "  <tbody>\n",
              "    <tr>\n",
              "      <th>0</th>\n",
              "      <td>2015-01-14 09:25:31.947</td>\n",
              "      <td>wk3qgqkpfy1qel0tbcats5jm</td>\n",
              "      <td>wk3qgqkpfy1qel0tbcats5jm-D20150114-N7277</td>\n",
              "      <td>iwo0v34xejz3tooxqleberel578CEF4562824948040D78...</td>\n",
              "      <td>Product Page</td>\n",
              "      <td>Product Page</td>\n",
              "      <td>http://www.farfetch.com/shopping/women/lanvin-...</td>\n",
              "      <td>http://www.farfetch.com/shopping/women/sale/cl...</td>\n",
              "      <td>10746328</td>\n",
              "      <td>NaN</td>\n",
              "      <td>0xEB088890C11305AEE5A0A37C52B9BA72</td>\n",
              "      <td>United States</td>\n",
              "      <td>NaN</td>\n",
              "    </tr>\n",
              "    <tr>\n",
              "      <th>1</th>\n",
              "      <td>2015-01-17 03:52:08.497</td>\n",
              "      <td>w50e1wkg0wuimfenyhun0qgw</td>\n",
              "      <td>w50e1wkg0wuimfenyhun0qgw-D20150117-N27106</td>\n",
              "      <td>wnjklehkxfe4mlhb3bktal52B6E6A8F0D4C02EDD9193E8...</td>\n",
              "      <td>Product Page</td>\n",
              "      <td>Product Page</td>\n",
              "      <td>http://www.farfetch.com/shopping/women/31-phil...</td>\n",
              "      <td>http://www.farfetch.com/shopping/women/search/...</td>\n",
              "      <td>10727895</td>\n",
              "      <td>NaN</td>\n",
              "      <td>0x4B6768C3E224027796A5D371B5C1F768</td>\n",
              "      <td>United States</td>\n",
              "      <td>NaN</td>\n",
              "    </tr>\n",
              "    <tr>\n",
              "      <th>2</th>\n",
              "      <td>2015-01-16 19:24:42.147</td>\n",
              "      <td>jaotvjamk25jd0mhipkfgt2p</td>\n",
              "      <td>jaotvjamk25jd0mhipkfgt2p-D20150116-N27816</td>\n",
              "      <td>bl0o3jldripyitenac3uf4lp2C9533ED0C61696B551139...</td>\n",
              "      <td>Product Page</td>\n",
              "      <td>Product Page</td>\n",
              "      <td>http://www.farfetch.com/shopping/men/dsquared2...</td>\n",
              "      <td>http://www.farfetch.com/shopping/men/dsquared2...</td>\n",
              "      <td>10734558</td>\n",
              "      <td>NaN</td>\n",
              "      <td>0x8A31556FC4BB8DE629E7DCD6000D63F4</td>\n",
              "      <td>United States</td>\n",
              "      <td>NaN</td>\n",
              "    </tr>\n",
              "    <tr>\n",
              "      <th>3</th>\n",
              "      <td>2015-01-17 15:16:34.557</td>\n",
              "      <td>uleu1b4nic0h14v3fx15wtds</td>\n",
              "      <td>uleu1b4nic0h14v3fx15wtds-D20150117-N0</td>\n",
              "      <td>4nkmvpm0hj4qpcvyri3qpp4h4BAE840D3015765F101133...</td>\n",
              "      <td>Product Page</td>\n",
              "      <td>Product Page</td>\n",
              "      <td>http://www.farfetch.com/cn/shopping/women/carv...</td>\n",
              "      <td>http://www.farfetch.com/cn/shopping/women/carv...</td>\n",
              "      <td>10726287</td>\n",
              "      <td>NaN</td>\n",
              "      <td>0xAFA719A51E018FDB7090FDD0406FC73B</td>\n",
              "      <td>China</td>\n",
              "      <td>NaN</td>\n",
              "    </tr>\n",
              "    <tr>\n",
              "      <th>4</th>\n",
              "      <td>2015-01-15 06:24:30.577</td>\n",
              "      <td>e3qf51abgaouhcx4gay5ay0n</td>\n",
              "      <td>e3qf51abgaouhcx4gay5ay0n-D20150115-N29158</td>\n",
              "      <td>x0s3niroydgptgi1l31orb14581D429ED1D25A0A77DC48...</td>\n",
              "      <td>Product Page</td>\n",
              "      <td>Product Page</td>\n",
              "      <td>http://www.farfetch.com/shopping/women/rosie-a...</td>\n",
              "      <td>http://www.farfetch.com/shopping/capitol/women...</td>\n",
              "      <td>10753382</td>\n",
              "      <td>NaN</td>\n",
              "      <td>0x4DD09FE7CCDCD246B194CE0731BA2A8E</td>\n",
              "      <td>United States</td>\n",
              "      <td>NaN</td>\n",
              "    </tr>\n",
              "  </tbody>\n",
              "</table>\n",
              "</div>"
            ],
            "text/plain": [
              "              PageViewDate                 sessionid  \\\n",
              "0  2015-01-14 09:25:31.947  wk3qgqkpfy1qel0tbcats5jm   \n",
              "1  2015-01-17 03:52:08.497  w50e1wkg0wuimfenyhun0qgw   \n",
              "2  2015-01-16 19:24:42.147  jaotvjamk25jd0mhipkfgt2p   \n",
              "3  2015-01-17 15:16:34.557  uleu1b4nic0h14v3fx15wtds   \n",
              "4  2015-01-15 06:24:30.577  e3qf51abgaouhcx4gay5ay0n   \n",
              "\n",
              "                              SessionIdFinal  \\\n",
              "0   wk3qgqkpfy1qel0tbcats5jm-D20150114-N7277   \n",
              "1  w50e1wkg0wuimfenyhun0qgw-D20150117-N27106   \n",
              "2  jaotvjamk25jd0mhipkfgt2p-D20150116-N27816   \n",
              "3      uleu1b4nic0h14v3fx15wtds-D20150117-N0   \n",
              "4  e3qf51abgaouhcx4gay5ay0n-D20150115-N29158   \n",
              "\n",
              "                                            CookieID      PageType  \\\n",
              "0  iwo0v34xejz3tooxqleberel578CEF4562824948040D78...  Product Page   \n",
              "1  wnjklehkxfe4mlhb3bktal52B6E6A8F0D4C02EDD9193E8...  Product Page   \n",
              "2  bl0o3jldripyitenac3uf4lp2C9533ED0C61696B551139...  Product Page   \n",
              "3  4nkmvpm0hj4qpcvyri3qpp4h4BAE840D3015765F101133...  Product Page   \n",
              "4  x0s3niroydgptgi1l31orb14581D429ED1D25A0A77DC48...  Product Page   \n",
              "\n",
              "    PageSubType                                            PageURL  \\\n",
              "0  Product Page  http://www.farfetch.com/shopping/women/lanvin-...   \n",
              "1  Product Page  http://www.farfetch.com/shopping/women/31-phil...   \n",
              "2  Product Page  http://www.farfetch.com/shopping/men/dsquared2...   \n",
              "3  Product Page  http://www.farfetch.com/cn/shopping/women/carv...   \n",
              "4  Product Page  http://www.farfetch.com/shopping/women/rosie-a...   \n",
              "\n",
              "                                            Referral  ProductID UserID  \\\n",
              "0  http://www.farfetch.com/shopping/women/sale/cl...   10746328    NaN   \n",
              "1  http://www.farfetch.com/shopping/women/search/...   10727895    NaN   \n",
              "2  http://www.farfetch.com/shopping/men/dsquared2...   10734558    NaN   \n",
              "3  http://www.farfetch.com/cn/shopping/women/carv...   10726287    NaN   \n",
              "4  http://www.farfetch.com/shopping/capitol/women...   10753382    NaN   \n",
              "\n",
              "                     UserIDIdentified   GeoSubfolder  orderportalid  \n",
              "0  0xEB088890C11305AEE5A0A37C52B9BA72  United States            NaN  \n",
              "1  0x4B6768C3E224027796A5D371B5C1F768  United States            NaN  \n",
              "2  0x8A31556FC4BB8DE629E7DCD6000D63F4  United States            NaN  \n",
              "3  0xAFA719A51E018FDB7090FDD0406FC73B          China            NaN  \n",
              "4  0x4DD09FE7CCDCD246B194CE0731BA2A8E  United States            NaN  "
            ]
          },
          "metadata": {
            "tags": []
          },
          "execution_count": 10
        }
      ]
    },
    {
      "cell_type": "markdown",
      "metadata": {
        "id": "WIhzI25xOHFA",
        "colab_type": "text"
      },
      "source": [
        "<h3> Clickstream User </h3>"
      ]
    },
    {
      "cell_type": "code",
      "metadata": {
        "id": "3FdHGVwaNsj1",
        "colab_type": "code",
        "outputId": "03ecd5fa-6166-4302-8a7e-43cb2719a4ce",
        "colab": {
          "base_uri": "https://localhost:8080/",
          "height": 309
        }
      },
      "source": [
        "click_user.head()"
      ],
      "execution_count": 0,
      "outputs": [
        {
          "output_type": "execute_result",
          "data": {
            "text/html": [
              "<div>\n",
              "<style scoped>\n",
              "    .dataframe tbody tr th:only-of-type {\n",
              "        vertical-align: middle;\n",
              "    }\n",
              "\n",
              "    .dataframe tbody tr th {\n",
              "        vertical-align: top;\n",
              "    }\n",
              "\n",
              "    .dataframe thead th {\n",
              "        text-align: right;\n",
              "    }\n",
              "</style>\n",
              "<table border=\"1\" class=\"dataframe\">\n",
              "  <thead>\n",
              "    <tr style=\"text-align: right;\">\n",
              "      <th></th>\n",
              "      <th>ActionDate</th>\n",
              "      <th>sessionid</th>\n",
              "      <th>SessionIdFinal</th>\n",
              "      <th>CookieID</th>\n",
              "      <th>PageType</th>\n",
              "      <th>PageSubType</th>\n",
              "      <th>URL</th>\n",
              "      <th>ProductID</th>\n",
              "      <th>trackerId</th>\n",
              "      <th>UserAction</th>\n",
              "      <th>UserID</th>\n",
              "      <th>UserIDIdentified</th>\n",
              "      <th>GeoSubfolder</th>\n",
              "    </tr>\n",
              "  </thead>\n",
              "  <tbody>\n",
              "    <tr>\n",
              "      <th>0</th>\n",
              "      <td>2015-01-15 20:29:42.133</td>\n",
              "      <td>s1tu4hpluogoexaw02zvcx3g</td>\n",
              "      <td>s1tu4hpluogoexaw02zvcx3g-D20150115-N0</td>\n",
              "      <td>r3tga5s5ytitxat0m1sdwpqhFEFC4A4E78F7E4DEEB4EA8...</td>\n",
              "      <td>Listing Page</td>\n",
              "      <td>Sale</td>\n",
              "      <td>http://www.farfetch.com/shopping/women/sale/cl...</td>\n",
              "      <td>-2</td>\n",
              "      <td>35</td>\n",
              "      <td>Save</td>\n",
              "      <td>0xCFCD208495D565EF66E7DFF9F98764DA</td>\n",
              "      <td>0xCFCD208495D565EF66E7DFF9F98764DA</td>\n",
              "      <td>Spain</td>\n",
              "    </tr>\n",
              "    <tr>\n",
              "      <th>1</th>\n",
              "      <td>2015-01-15 20:29:38.477</td>\n",
              "      <td>s1tu4hpluogoexaw02zvcx3g</td>\n",
              "      <td>s1tu4hpluogoexaw02zvcx3g-D20150115-N0</td>\n",
              "      <td>r3tga5s5ytitxat0m1sdwpqhFEFC4A4E78F7E4DEEB4EA8...</td>\n",
              "      <td>Listing Page</td>\n",
              "      <td>Sale</td>\n",
              "      <td>http://www.farfetch.com/shopping/women/sale/cl...</td>\n",
              "      <td>-2</td>\n",
              "      <td>35</td>\n",
              "      <td>Save</td>\n",
              "      <td>0xCFCD208495D565EF66E7DFF9F98764DA</td>\n",
              "      <td>0xCFCD208495D565EF66E7DFF9F98764DA</td>\n",
              "      <td>Spain</td>\n",
              "    </tr>\n",
              "    <tr>\n",
              "      <th>2</th>\n",
              "      <td>2015-01-15 20:30:56.460</td>\n",
              "      <td>s1tu4hpluogoexaw02zvcx3g</td>\n",
              "      <td>s1tu4hpluogoexaw02zvcx3g-D20150115-N0</td>\n",
              "      <td>r3tga5s5ytitxat0m1sdwpqhFEFC4A4E78F7E4DEEB4EA8...</td>\n",
              "      <td>Listing Page</td>\n",
              "      <td>Sale</td>\n",
              "      <td>http://www.farfetch.com/shopping/women/sale/cl...</td>\n",
              "      <td>-2</td>\n",
              "      <td>35</td>\n",
              "      <td>Save</td>\n",
              "      <td>0xCFCD208495D565EF66E7DFF9F98764DA</td>\n",
              "      <td>0xCFCD208495D565EF66E7DFF9F98764DA</td>\n",
              "      <td>Spain</td>\n",
              "    </tr>\n",
              "    <tr>\n",
              "      <th>3</th>\n",
              "      <td>2015-01-15 20:30:35.710</td>\n",
              "      <td>s1tu4hpluogoexaw02zvcx3g</td>\n",
              "      <td>s1tu4hpluogoexaw02zvcx3g-D20150115-N0</td>\n",
              "      <td>r3tga5s5ytitxat0m1sdwpqhFEFC4A4E78F7E4DEEB4EA8...</td>\n",
              "      <td>Listing Page</td>\n",
              "      <td>Sale</td>\n",
              "      <td>http://www.farfetch.com/shopping/women/sale/cl...</td>\n",
              "      <td>-2</td>\n",
              "      <td>35</td>\n",
              "      <td>Save</td>\n",
              "      <td>0xCFCD208495D565EF66E7DFF9F98764DA</td>\n",
              "      <td>0xCFCD208495D565EF66E7DFF9F98764DA</td>\n",
              "      <td>Spain</td>\n",
              "    </tr>\n",
              "    <tr>\n",
              "      <th>4</th>\n",
              "      <td>2015-01-15 20:30:41.710</td>\n",
              "      <td>s1tu4hpluogoexaw02zvcx3g</td>\n",
              "      <td>s1tu4hpluogoexaw02zvcx3g-D20150115-N0</td>\n",
              "      <td>r3tga5s5ytitxat0m1sdwpqhFEFC4A4E78F7E4DEEB4EA8...</td>\n",
              "      <td>Listing Page</td>\n",
              "      <td>Sale</td>\n",
              "      <td>http://www.farfetch.com/shopping/women/sale/cl...</td>\n",
              "      <td>-2</td>\n",
              "      <td>35</td>\n",
              "      <td>Save</td>\n",
              "      <td>0xCFCD208495D565EF66E7DFF9F98764DA</td>\n",
              "      <td>0xCFCD208495D565EF66E7DFF9F98764DA</td>\n",
              "      <td>Spain</td>\n",
              "    </tr>\n",
              "  </tbody>\n",
              "</table>\n",
              "</div>"
            ],
            "text/plain": [
              "                ActionDate                 sessionid  \\\n",
              "0  2015-01-15 20:29:42.133  s1tu4hpluogoexaw02zvcx3g   \n",
              "1  2015-01-15 20:29:38.477  s1tu4hpluogoexaw02zvcx3g   \n",
              "2  2015-01-15 20:30:56.460  s1tu4hpluogoexaw02zvcx3g   \n",
              "3  2015-01-15 20:30:35.710  s1tu4hpluogoexaw02zvcx3g   \n",
              "4  2015-01-15 20:30:41.710  s1tu4hpluogoexaw02zvcx3g   \n",
              "\n",
              "                          SessionIdFinal  \\\n",
              "0  s1tu4hpluogoexaw02zvcx3g-D20150115-N0   \n",
              "1  s1tu4hpluogoexaw02zvcx3g-D20150115-N0   \n",
              "2  s1tu4hpluogoexaw02zvcx3g-D20150115-N0   \n",
              "3  s1tu4hpluogoexaw02zvcx3g-D20150115-N0   \n",
              "4  s1tu4hpluogoexaw02zvcx3g-D20150115-N0   \n",
              "\n",
              "                                            CookieID      PageType  \\\n",
              "0  r3tga5s5ytitxat0m1sdwpqhFEFC4A4E78F7E4DEEB4EA8...  Listing Page   \n",
              "1  r3tga5s5ytitxat0m1sdwpqhFEFC4A4E78F7E4DEEB4EA8...  Listing Page   \n",
              "2  r3tga5s5ytitxat0m1sdwpqhFEFC4A4E78F7E4DEEB4EA8...  Listing Page   \n",
              "3  r3tga5s5ytitxat0m1sdwpqhFEFC4A4E78F7E4DEEB4EA8...  Listing Page   \n",
              "4  r3tga5s5ytitxat0m1sdwpqhFEFC4A4E78F7E4DEEB4EA8...  Listing Page   \n",
              "\n",
              "  PageSubType                                                URL  ProductID  \\\n",
              "0        Sale  http://www.farfetch.com/shopping/women/sale/cl...         -2   \n",
              "1        Sale  http://www.farfetch.com/shopping/women/sale/cl...         -2   \n",
              "2        Sale  http://www.farfetch.com/shopping/women/sale/cl...         -2   \n",
              "3        Sale  http://www.farfetch.com/shopping/women/sale/cl...         -2   \n",
              "4        Sale  http://www.farfetch.com/shopping/women/sale/cl...         -2   \n",
              "\n",
              "   trackerId UserAction                              UserID  \\\n",
              "0         35       Save  0xCFCD208495D565EF66E7DFF9F98764DA   \n",
              "1         35       Save  0xCFCD208495D565EF66E7DFF9F98764DA   \n",
              "2         35       Save  0xCFCD208495D565EF66E7DFF9F98764DA   \n",
              "3         35       Save  0xCFCD208495D565EF66E7DFF9F98764DA   \n",
              "4         35       Save  0xCFCD208495D565EF66E7DFF9F98764DA   \n",
              "\n",
              "                     UserIDIdentified GeoSubfolder  \n",
              "0  0xCFCD208495D565EF66E7DFF9F98764DA        Spain  \n",
              "1  0xCFCD208495D565EF66E7DFF9F98764DA        Spain  \n",
              "2  0xCFCD208495D565EF66E7DFF9F98764DA        Spain  \n",
              "3  0xCFCD208495D565EF66E7DFF9F98764DA        Spain  \n",
              "4  0xCFCD208495D565EF66E7DFF9F98764DA        Spain  "
            ]
          },
          "metadata": {
            "tags": []
          },
          "execution_count": 11
        }
      ]
    },
    {
      "cell_type": "code",
      "metadata": {
        "id": "7b5EeuP8ZdM8",
        "colab_type": "code",
        "outputId": "ea23e5f6-44a4-4ee7-b051-e25c4b96b129",
        "colab": {
          "base_uri": "https://localhost:8080/",
          "height": 748
        }
      },
      "source": [
        "click_user.UserAction.unique()"
      ],
      "execution_count": 0,
      "outputs": [
        {
          "output_type": "execute_result",
          "data": {
            "text/plain": [
              "array(['Save', 'Click on Next to other page', 'Click on \"60\"/\"180\"',\n",
              "       'Use Multi-Select filter', 'Use Price filter', 'Sort by other',\n",
              "       'N/D', 'Click on back to top arrow', 'Click on forward arrow',\n",
              "       'Click on navigation of thumbnails',\n",
              "       'Click to see Bag details on Header', 'Remove from bag',\n",
              "       'Click on NickName to see dropdown list of options',\n",
              "       'Click on picture',\n",
              "       'Notify me if back in stock, click on Send button',\n",
              "       'Is your size not available?', 'Expand/Collapse Description',\n",
              "       'Click on drop down to select size', 'Pause video', 'Add to Bag',\n",
              "       'Clear button', 'Expand/Collapse Size and Fit',\n",
              "       'Expand/Collapse Boutique', 'Size guide', 'Click on back arrow',\n",
              "       'Click on Full Screen', 'Expand/Collapse Composition Care',\n",
              "       'Click on \"Remove Item\"', 'Play video', 'Unsave',\n",
              "       'Click to see Favorite details on Header', 'Click on \"Register\"',\n",
              "       'End video', 'Filter by Category', 'Click on Letter/Number',\n",
              "       'Click on picture to go to Product page',\n",
              "       'Click to see Sign In/Register details on Header',\n",
              "       'Change shipping option', 'Place Order', 'Filter by Department',\n",
              "       'Recommendations: click on navigation of thumbnails',\n",
              "       'Change Quantity',\n",
              "       'Click on Designer/Friendly name to go to Product page',\n",
              "       'Expand/Collapse Shipping & Free Returns', 'Close Header tab',\n",
              "       'Click on \"Sign In\"', 'Click to contact CS team', 'Resume video',\n",
              "       'Follow Boutique', 'Clear Multi-Select filter (clear all)',\n",
              "       'Click on \"edit\" the selected address',\n",
              "       'Notify me if back in stock', 'Expand / Collapse Orders',\n",
              "       'Expand / Collapse Details', 'Expand / Collapse Address Book',\n",
              "       'Expand / Collapse Gift Vouchers',\n",
              "       'Expand / Collapse Refer a Friend Rewards',\n",
              "       'Expand / Collapse Credits', 'Sign up for newsletter - Success',\n",
              "       'Pay with PagSeguro', 'Click on Previous/Next',\n",
              "       'Select page from dropdown menu', 'Click on \"Add new address\"',\n",
              "       'Click on \"Edit address\"', 'Select \"Remember me\"',\n",
              "       'Add a new shipping address', 'Click on drop down to change size',\n",
              "       'Click on \"Add to Wishlist\"', 'Move to Bag', 'Change Size',\n",
              "       'Click on drop down to change quantity', 'Pay with PayPal',\n",
              "       'Add email', 'Click on \"Add\"', 'Click on \"Save Details\"',\n",
              "       'Click on \"Edit Profile\"', 'Click on \"Delete address\"',\n",
              "       'Follow Designer', 'Click on View (10/20)', 'Click on Back to Top',\n",
              "       'Click on \"Cancel\"', 'Unfollow Boutique',\n",
              "       'Delete shipping address', 'Unfollow Designer',\n",
              "       'Click on \"Edit Bag\"', 'Show all credits'], dtype=object)"
            ]
          },
          "metadata": {
            "tags": []
          },
          "execution_count": 146
        }
      ]
    },
    {
      "cell_type": "markdown",
      "metadata": {
        "id": "gQ5WV08LS76V",
        "colab_type": "text"
      },
      "source": [
        "<h2> EDA on each dataframe </h2>"
      ]
    },
    {
      "cell_type": "markdown",
      "metadata": {
        "id": "ejIPEL40WHQv",
        "colab_type": "text"
      },
      "source": [
        "<h3> Order </h3>"
      ]
    },
    {
      "cell_type": "code",
      "metadata": {
        "id": "29q5yExXOQ-K",
        "colab_type": "code",
        "outputId": "d249cbc3-670e-498e-d308-50130b60cf88",
        "colab": {
          "base_uri": "https://localhost:8080/",
          "height": 204
        }
      },
      "source": [
        "order.isnull().sum().sort_values(ascending=False) / order.shape[0] * 100"
      ],
      "execution_count": 0,
      "outputs": [
        {
          "output_type": "execute_result",
          "data": {
            "text/plain": [
              "Revenue_GBP         0.0\n",
              "Quantity            0.0\n",
              "Country             0.0\n",
              "CustomerCurrency    0.0\n",
              "UserID              0.0\n",
              "ProductGender       0.0\n",
              "ProductId           0.0\n",
              "OrderDate           0.0\n",
              "OrderCode           0.0\n",
              "orderportalid       0.0\n",
              "dtype: float64"
            ]
          },
          "metadata": {
            "tags": []
          },
          "execution_count": 12
        }
      ]
    },
    {
      "cell_type": "code",
      "metadata": {
        "id": "R0lkrPebWME_",
        "colab_type": "code",
        "outputId": "d3191505-1fe0-479c-b1bc-dc92af7163d6",
        "colab": {
          "base_uri": "https://localhost:8080/",
          "height": 193
        }
      },
      "source": [
        "gender=order[['ProductId','ProductGender']].drop_duplicates()\n",
        "gender.groupby(['ProductGender'])['ProductId'].aggregate({'ProductId': lambda x : x.count()/gender.shape[0]*100}).reset_index().sort_values('ProductId', ascending=False)"
      ],
      "execution_count": 0,
      "outputs": [
        {
          "output_type": "stream",
          "text": [
            "/usr/local/lib/python3.6/dist-packages/ipykernel_launcher.py:2: FutureWarning: using a dict on a Series for aggregation\n",
            "is deprecated and will be removed in a future version\n",
            "  \n"
          ],
          "name": "stderr"
        },
        {
          "output_type": "execute_result",
          "data": {
            "text/html": [
              "<div>\n",
              "<style scoped>\n",
              "    .dataframe tbody tr th:only-of-type {\n",
              "        vertical-align: middle;\n",
              "    }\n",
              "\n",
              "    .dataframe tbody tr th {\n",
              "        vertical-align: top;\n",
              "    }\n",
              "\n",
              "    .dataframe thead th {\n",
              "        text-align: right;\n",
              "    }\n",
              "</style>\n",
              "<table border=\"1\" class=\"dataframe\">\n",
              "  <thead>\n",
              "    <tr style=\"text-align: right;\">\n",
              "      <th></th>\n",
              "      <th>ProductGender</th>\n",
              "      <th>ProductId</th>\n",
              "    </tr>\n",
              "  </thead>\n",
              "  <tbody>\n",
              "    <tr>\n",
              "      <th>2</th>\n",
              "      <td>WOMEN</td>\n",
              "      <td>61.327597</td>\n",
              "    </tr>\n",
              "    <tr>\n",
              "      <th>0</th>\n",
              "      <td>MEN</td>\n",
              "      <td>36.250768</td>\n",
              "    </tr>\n",
              "    <tr>\n",
              "      <th>1</th>\n",
              "      <td>UNISEX</td>\n",
              "      <td>2.421635</td>\n",
              "    </tr>\n",
              "  </tbody>\n",
              "</table>\n",
              "</div>"
            ],
            "text/plain": [
              "  ProductGender  ProductId\n",
              "2         WOMEN  61.327597\n",
              "0           MEN  36.250768\n",
              "1        UNISEX   2.421635"
            ]
          },
          "metadata": {
            "tags": []
          },
          "execution_count": 16
        }
      ]
    },
    {
      "cell_type": "code",
      "metadata": {
        "id": "pabF5URNXA86",
        "colab_type": "code",
        "outputId": "aa801bc6-373b-4736-a087-ebb81ccf2548",
        "colab": {
          "base_uri": "https://localhost:8080/",
          "height": 1000
        }
      },
      "source": [
        "country=order[['UserID','Country']].drop_duplicates()\n",
        "country.groupby(['Country'])['UserID'].aggregate({'UserID': lambda x : x.count()/country.shape[0]*100}).reset_index().sort_values('UserID', ascending=False)"
      ],
      "execution_count": 0,
      "outputs": [
        {
          "output_type": "stream",
          "text": [
            "/usr/local/lib/python3.6/dist-packages/ipykernel_launcher.py:2: FutureWarning: using a dict on a Series for aggregation\n",
            "is deprecated and will be removed in a future version\n",
            "  \n"
          ],
          "name": "stderr"
        },
        {
          "output_type": "execute_result",
          "data": {
            "text/html": [
              "<div>\n",
              "<style scoped>\n",
              "    .dataframe tbody tr th:only-of-type {\n",
              "        vertical-align: middle;\n",
              "    }\n",
              "\n",
              "    .dataframe tbody tr th {\n",
              "        vertical-align: top;\n",
              "    }\n",
              "\n",
              "    .dataframe thead th {\n",
              "        text-align: right;\n",
              "    }\n",
              "</style>\n",
              "<table border=\"1\" class=\"dataframe\">\n",
              "  <thead>\n",
              "    <tr style=\"text-align: right;\">\n",
              "      <th></th>\n",
              "      <th>Country</th>\n",
              "      <th>UserID</th>\n",
              "    </tr>\n",
              "  </thead>\n",
              "  <tbody>\n",
              "    <tr>\n",
              "      <th>92</th>\n",
              "      <td>United States</td>\n",
              "      <td>32.635073</td>\n",
              "    </tr>\n",
              "    <tr>\n",
              "      <th>91</th>\n",
              "      <td>United Kingdom</td>\n",
              "      <td>10.828755</td>\n",
              "    </tr>\n",
              "    <tr>\n",
              "      <th>13</th>\n",
              "      <td>Brazil</td>\n",
              "      <td>6.879579</td>\n",
              "    </tr>\n",
              "    <tr>\n",
              "      <th>5</th>\n",
              "      <td>Australia</td>\n",
              "      <td>5.723443</td>\n",
              "    </tr>\n",
              "    <tr>\n",
              "      <th>35</th>\n",
              "      <td>Hong Kong</td>\n",
              "      <td>4.922161</td>\n",
              "    </tr>\n",
              "    <tr>\n",
              "      <th>30</th>\n",
              "      <td>France</td>\n",
              "      <td>4.063645</td>\n",
              "    </tr>\n",
              "    <tr>\n",
              "      <th>32</th>\n",
              "      <td>Germany</td>\n",
              "      <td>3.353938</td>\n",
              "    </tr>\n",
              "    <tr>\n",
              "      <th>45</th>\n",
              "      <td>Korea, Republic of</td>\n",
              "      <td>2.735806</td>\n",
              "    </tr>\n",
              "    <tr>\n",
              "      <th>77</th>\n",
              "      <td>Singapore</td>\n",
              "      <td>1.774267</td>\n",
              "    </tr>\n",
              "    <tr>\n",
              "      <th>75</th>\n",
              "      <td>Russian Federation</td>\n",
              "      <td>1.762821</td>\n",
              "    </tr>\n",
              "    <tr>\n",
              "      <th>41</th>\n",
              "      <td>Italy</td>\n",
              "      <td>1.659799</td>\n",
              "    </tr>\n",
              "    <tr>\n",
              "      <th>42</th>\n",
              "      <td>Japan</td>\n",
              "      <td>1.568223</td>\n",
              "    </tr>\n",
              "    <tr>\n",
              "      <th>18</th>\n",
              "      <td>Canada</td>\n",
              "      <td>1.556777</td>\n",
              "    </tr>\n",
              "    <tr>\n",
              "      <th>84</th>\n",
              "      <td>Switzerland</td>\n",
              "      <td>1.259158</td>\n",
              "    </tr>\n",
              "    <tr>\n",
              "      <th>7</th>\n",
              "      <td>Azerbaijan</td>\n",
              "      <td>1.144689</td>\n",
              "    </tr>\n",
              "    <tr>\n",
              "      <th>11</th>\n",
              "      <td>Belgium</td>\n",
              "      <td>1.121795</td>\n",
              "    </tr>\n",
              "    <tr>\n",
              "      <th>85</th>\n",
              "      <td>Taiwan</td>\n",
              "      <td>1.087454</td>\n",
              "    </tr>\n",
              "    <tr>\n",
              "      <th>21</th>\n",
              "      <td>China</td>\n",
              "      <td>1.018773</td>\n",
              "    </tr>\n",
              "    <tr>\n",
              "      <th>60</th>\n",
              "      <td>Netherlands</td>\n",
              "      <td>0.961538</td>\n",
              "    </tr>\n",
              "    <tr>\n",
              "      <th>81</th>\n",
              "      <td>Spain</td>\n",
              "      <td>0.904304</td>\n",
              "    </tr>\n",
              "    <tr>\n",
              "      <th>69</th>\n",
              "      <td>Poland</td>\n",
              "      <td>0.869963</td>\n",
              "    </tr>\n",
              "    <tr>\n",
              "      <th>89</th>\n",
              "      <td>U.A.E.</td>\n",
              "      <td>0.778388</td>\n",
              "    </tr>\n",
              "    <tr>\n",
              "      <th>33</th>\n",
              "      <td>Greece</td>\n",
              "      <td>0.675366</td>\n",
              "    </tr>\n",
              "    <tr>\n",
              "      <th>76</th>\n",
              "      <td>Saudi Arabia</td>\n",
              "      <td>0.629579</td>\n",
              "    </tr>\n",
              "    <tr>\n",
              "      <th>70</th>\n",
              "      <td>Portugal</td>\n",
              "      <td>0.629579</td>\n",
              "    </tr>\n",
              "    <tr>\n",
              "      <th>74</th>\n",
              "      <td>Romania</td>\n",
              "      <td>0.583791</td>\n",
              "    </tr>\n",
              "    <tr>\n",
              "      <th>26</th>\n",
              "      <td>Denmark</td>\n",
              "      <td>0.583791</td>\n",
              "    </tr>\n",
              "    <tr>\n",
              "      <th>44</th>\n",
              "      <td>Kazakhstan</td>\n",
              "      <td>0.560897</td>\n",
              "    </tr>\n",
              "    <tr>\n",
              "      <th>83</th>\n",
              "      <td>Sweden</td>\n",
              "      <td>0.503663</td>\n",
              "    </tr>\n",
              "    <tr>\n",
              "      <th>53</th>\n",
              "      <td>Macau</td>\n",
              "      <td>0.480769</td>\n",
              "    </tr>\n",
              "    <tr>\n",
              "      <th>...</th>\n",
              "      <td>...</td>\n",
              "      <td>...</td>\n",
              "    </tr>\n",
              "    <tr>\n",
              "      <th>95</th>\n",
              "      <td>Viet Nam</td>\n",
              "      <td>0.034341</td>\n",
              "    </tr>\n",
              "    <tr>\n",
              "      <th>65</th>\n",
              "      <td>Oman</td>\n",
              "      <td>0.034341</td>\n",
              "    </tr>\n",
              "    <tr>\n",
              "      <th>47</th>\n",
              "      <td>Kyrgyzstan</td>\n",
              "      <td>0.034341</td>\n",
              "    </tr>\n",
              "    <tr>\n",
              "      <th>22</th>\n",
              "      <td>Colombia</td>\n",
              "      <td>0.034341</td>\n",
              "    </tr>\n",
              "    <tr>\n",
              "      <th>80</th>\n",
              "      <td>South Africa</td>\n",
              "      <td>0.022894</td>\n",
              "    </tr>\n",
              "    <tr>\n",
              "      <th>0</th>\n",
              "      <td>Albania</td>\n",
              "      <td>0.022894</td>\n",
              "    </tr>\n",
              "    <tr>\n",
              "      <th>68</th>\n",
              "      <td>Philippines</td>\n",
              "      <td>0.022894</td>\n",
              "    </tr>\n",
              "    <tr>\n",
              "      <th>56</th>\n",
              "      <td>Martinique</td>\n",
              "      <td>0.022894</td>\n",
              "    </tr>\n",
              "    <tr>\n",
              "      <th>2</th>\n",
              "      <td>Andorra</td>\n",
              "      <td>0.022894</td>\n",
              "    </tr>\n",
              "    <tr>\n",
              "      <th>20</th>\n",
              "      <td>Chile</td>\n",
              "      <td>0.022894</td>\n",
              "    </tr>\n",
              "    <tr>\n",
              "      <th>27</th>\n",
              "      <td>Egypt</td>\n",
              "      <td>0.022894</td>\n",
              "    </tr>\n",
              "    <tr>\n",
              "      <th>58</th>\n",
              "      <td>Moldova, Republic of</td>\n",
              "      <td>0.022894</td>\n",
              "    </tr>\n",
              "    <tr>\n",
              "      <th>67</th>\n",
              "      <td>Peru</td>\n",
              "      <td>0.022894</td>\n",
              "    </tr>\n",
              "    <tr>\n",
              "      <th>87</th>\n",
              "      <td>Tunisia</td>\n",
              "      <td>0.011447</td>\n",
              "    </tr>\n",
              "    <tr>\n",
              "      <th>94</th>\n",
              "      <td>Uzbekistan</td>\n",
              "      <td>0.011447</td>\n",
              "    </tr>\n",
              "    <tr>\n",
              "      <th>93</th>\n",
              "      <td>Uruguay</td>\n",
              "      <td>0.011447</td>\n",
              "    </tr>\n",
              "    <tr>\n",
              "      <th>8</th>\n",
              "      <td>Bahamas</td>\n",
              "      <td>0.011447</td>\n",
              "    </tr>\n",
              "    <tr>\n",
              "      <th>10</th>\n",
              "      <td>Belarus</td>\n",
              "      <td>0.011447</td>\n",
              "    </tr>\n",
              "    <tr>\n",
              "      <th>12</th>\n",
              "      <td>Bosnia and Herzegovina</td>\n",
              "      <td>0.011447</td>\n",
              "    </tr>\n",
              "    <tr>\n",
              "      <th>16</th>\n",
              "      <td>Burkina Faso</td>\n",
              "      <td>0.011447</td>\n",
              "    </tr>\n",
              "    <tr>\n",
              "      <th>19</th>\n",
              "      <td>Cayman Islands</td>\n",
              "      <td>0.011447</td>\n",
              "    </tr>\n",
              "    <tr>\n",
              "      <th>55</th>\n",
              "      <td>Malta</td>\n",
              "      <td>0.011447</td>\n",
              "    </tr>\n",
              "    <tr>\n",
              "      <th>61</th>\n",
              "      <td>New Caledonia</td>\n",
              "      <td>0.011447</td>\n",
              "    </tr>\n",
              "    <tr>\n",
              "      <th>73</th>\n",
              "      <td>Reunion</td>\n",
              "      <td>0.011447</td>\n",
              "    </tr>\n",
              "    <tr>\n",
              "      <th>34</th>\n",
              "      <td>Guadeloupe</td>\n",
              "      <td>0.011447</td>\n",
              "    </tr>\n",
              "    <tr>\n",
              "      <th>82</th>\n",
              "      <td>Svalbard and Jan Mayen Islands</td>\n",
              "      <td>0.011447</td>\n",
              "    </tr>\n",
              "    <tr>\n",
              "      <th>43</th>\n",
              "      <td>Jersey, C.I.</td>\n",
              "      <td>0.011447</td>\n",
              "    </tr>\n",
              "    <tr>\n",
              "      <th>1</th>\n",
              "      <td>Algeria</td>\n",
              "      <td>0.011447</td>\n",
              "    </tr>\n",
              "    <tr>\n",
              "      <th>50</th>\n",
              "      <td>Lebanon</td>\n",
              "      <td>0.011447</td>\n",
              "    </tr>\n",
              "    <tr>\n",
              "      <th>48</th>\n",
              "      <td>Lao Peoples Democratic Republic</td>\n",
              "      <td>0.011447</td>\n",
              "    </tr>\n",
              "  </tbody>\n",
              "</table>\n",
              "<p>96 rows × 2 columns</p>\n",
              "</div>"
            ],
            "text/plain": [
              "                            Country     UserID\n",
              "92                    United States  32.635073\n",
              "91                   United Kingdom  10.828755\n",
              "13                           Brazil   6.879579\n",
              "5                         Australia   5.723443\n",
              "35                        Hong Kong   4.922161\n",
              "30                           France   4.063645\n",
              "32                          Germany   3.353938\n",
              "45               Korea, Republic of   2.735806\n",
              "77                        Singapore   1.774267\n",
              "75               Russian Federation   1.762821\n",
              "41                            Italy   1.659799\n",
              "42                            Japan   1.568223\n",
              "18                           Canada   1.556777\n",
              "84                      Switzerland   1.259158\n",
              "7                        Azerbaijan   1.144689\n",
              "11                          Belgium   1.121795\n",
              "85                           Taiwan   1.087454\n",
              "21                            China   1.018773\n",
              "60                      Netherlands   0.961538\n",
              "81                            Spain   0.904304\n",
              "69                           Poland   0.869963\n",
              "89                           U.A.E.   0.778388\n",
              "33                           Greece   0.675366\n",
              "76                     Saudi Arabia   0.629579\n",
              "70                         Portugal   0.629579\n",
              "74                          Romania   0.583791\n",
              "26                          Denmark   0.583791\n",
              "44                       Kazakhstan   0.560897\n",
              "83                           Sweden   0.503663\n",
              "53                            Macau   0.480769\n",
              "..                              ...        ...\n",
              "95                         Viet Nam   0.034341\n",
              "65                             Oman   0.034341\n",
              "47                       Kyrgyzstan   0.034341\n",
              "22                         Colombia   0.034341\n",
              "80                     South Africa   0.022894\n",
              "0                           Albania   0.022894\n",
              "68                      Philippines   0.022894\n",
              "56                       Martinique   0.022894\n",
              "2                           Andorra   0.022894\n",
              "20                            Chile   0.022894\n",
              "27                            Egypt   0.022894\n",
              "58             Moldova, Republic of   0.022894\n",
              "67                             Peru   0.022894\n",
              "87                          Tunisia   0.011447\n",
              "94                       Uzbekistan   0.011447\n",
              "93                          Uruguay   0.011447\n",
              "8                           Bahamas   0.011447\n",
              "10                          Belarus   0.011447\n",
              "12           Bosnia and Herzegovina   0.011447\n",
              "16                     Burkina Faso   0.011447\n",
              "19                   Cayman Islands   0.011447\n",
              "55                            Malta   0.011447\n",
              "61                    New Caledonia   0.011447\n",
              "73                          Reunion   0.011447\n",
              "34                       Guadeloupe   0.011447\n",
              "82   Svalbard and Jan Mayen Islands   0.011447\n",
              "43                     Jersey, C.I.   0.011447\n",
              "1                           Algeria   0.011447\n",
              "50                          Lebanon   0.011447\n",
              "48  Lao Peoples Democratic Republic   0.011447\n",
              "\n",
              "[96 rows x 2 columns]"
            ]
          },
          "metadata": {
            "tags": []
          },
          "execution_count": 17
        }
      ]
    },
    {
      "cell_type": "code",
      "metadata": {
        "id": "ZwcY4YwHX_9p",
        "colab_type": "code",
        "outputId": "adf2da34-08e7-43aa-e4e5-7f8efe3d463f",
        "colab": {
          "base_uri": "https://localhost:8080/",
          "height": 170
        }
      },
      "source": [
        "order.Revenue_GBP.describe()"
      ],
      "execution_count": 0,
      "outputs": [
        {
          "output_type": "execute_result",
          "data": {
            "text/plain": [
              "count    10000.000000\n",
              "mean         3.180853\n",
              "std          3.087422\n",
              "min          0.040000\n",
              "25%          1.270000\n",
              "50%          2.310000\n",
              "75%          4.000000\n",
              "max         60.270000\n",
              "Name: Revenue_GBP, dtype: float64"
            ]
          },
          "metadata": {
            "tags": []
          },
          "execution_count": 23
        }
      ]
    },
    {
      "cell_type": "code",
      "metadata": {
        "id": "9zh_4vdlYi5X",
        "colab_type": "code",
        "outputId": "d6d0e3a1-5187-4719-80b0-d4b84e4b9f53",
        "colab": {
          "base_uri": "https://localhost:8080/",
          "height": 1000
        }
      },
      "source": [
        "sum_prod = order['Quantity'].groupby(order['ProductId']).sum().reset_index()\n",
        "sum_prod.sort_values(by = ['Quantity'], ascending=[False])"
      ],
      "execution_count": 0,
      "outputs": [
        {
          "output_type": "execute_result",
          "data": {
            "text/html": [
              "<div>\n",
              "<style scoped>\n",
              "    .dataframe tbody tr th:only-of-type {\n",
              "        vertical-align: middle;\n",
              "    }\n",
              "\n",
              "    .dataframe tbody tr th {\n",
              "        vertical-align: top;\n",
              "    }\n",
              "\n",
              "    .dataframe thead th {\n",
              "        text-align: right;\n",
              "    }\n",
              "</style>\n",
              "<table border=\"1\" class=\"dataframe\">\n",
              "  <thead>\n",
              "    <tr style=\"text-align: right;\">\n",
              "      <th></th>\n",
              "      <th>ProductId</th>\n",
              "      <th>Quantity</th>\n",
              "    </tr>\n",
              "  </thead>\n",
              "  <tbody>\n",
              "    <tr>\n",
              "      <th>6124</th>\n",
              "      <td>10872007</td>\n",
              "      <td>28</td>\n",
              "    </tr>\n",
              "    <tr>\n",
              "      <th>6944</th>\n",
              "      <td>10891162</td>\n",
              "      <td>19</td>\n",
              "    </tr>\n",
              "    <tr>\n",
              "      <th>15</th>\n",
              "      <td>10120391</td>\n",
              "      <td>19</td>\n",
              "    </tr>\n",
              "    <tr>\n",
              "      <th>7370</th>\n",
              "      <td>10898597</td>\n",
              "      <td>19</td>\n",
              "    </tr>\n",
              "    <tr>\n",
              "      <th>16</th>\n",
              "      <td>10120392</td>\n",
              "      <td>16</td>\n",
              "    </tr>\n",
              "    <tr>\n",
              "      <th>7111</th>\n",
              "      <td>10894177</td>\n",
              "      <td>14</td>\n",
              "    </tr>\n",
              "    <tr>\n",
              "      <th>7345</th>\n",
              "      <td>10898516</td>\n",
              "      <td>13</td>\n",
              "    </tr>\n",
              "    <tr>\n",
              "      <th>2603</th>\n",
              "      <td>10764174</td>\n",
              "      <td>12</td>\n",
              "    </tr>\n",
              "    <tr>\n",
              "      <th>7968</th>\n",
              "      <td>10915186</td>\n",
              "      <td>12</td>\n",
              "    </tr>\n",
              "    <tr>\n",
              "      <th>7267</th>\n",
              "      <td>10897385</td>\n",
              "      <td>11</td>\n",
              "    </tr>\n",
              "    <tr>\n",
              "      <th>7346</th>\n",
              "      <td>10898518</td>\n",
              "      <td>11</td>\n",
              "    </tr>\n",
              "    <tr>\n",
              "      <th>6916</th>\n",
              "      <td>10890849</td>\n",
              "      <td>11</td>\n",
              "    </tr>\n",
              "    <tr>\n",
              "      <th>7028</th>\n",
              "      <td>10892872</td>\n",
              "      <td>11</td>\n",
              "    </tr>\n",
              "    <tr>\n",
              "      <th>7153</th>\n",
              "      <td>10895051</td>\n",
              "      <td>11</td>\n",
              "    </tr>\n",
              "    <tr>\n",
              "      <th>3795</th>\n",
              "      <td>10795757</td>\n",
              "      <td>10</td>\n",
              "    </tr>\n",
              "    <tr>\n",
              "      <th>7926</th>\n",
              "      <td>10913633</td>\n",
              "      <td>10</td>\n",
              "    </tr>\n",
              "    <tr>\n",
              "      <th>5890</th>\n",
              "      <td>10862359</td>\n",
              "      <td>10</td>\n",
              "    </tr>\n",
              "    <tr>\n",
              "      <th>7388</th>\n",
              "      <td>10898807</td>\n",
              "      <td>9</td>\n",
              "    </tr>\n",
              "    <tr>\n",
              "      <th>7358</th>\n",
              "      <td>10898583</td>\n",
              "      <td>9</td>\n",
              "    </tr>\n",
              "    <tr>\n",
              "      <th>7342</th>\n",
              "      <td>10898512</td>\n",
              "      <td>9</td>\n",
              "    </tr>\n",
              "    <tr>\n",
              "      <th>7104</th>\n",
              "      <td>10894157</td>\n",
              "      <td>9</td>\n",
              "    </tr>\n",
              "    <tr>\n",
              "      <th>7643</th>\n",
              "      <td>10904549</td>\n",
              "      <td>9</td>\n",
              "    </tr>\n",
              "    <tr>\n",
              "      <th>7803</th>\n",
              "      <td>10908651</td>\n",
              "      <td>9</td>\n",
              "    </tr>\n",
              "    <tr>\n",
              "      <th>5444</th>\n",
              "      <td>10847383</td>\n",
              "      <td>9</td>\n",
              "    </tr>\n",
              "    <tr>\n",
              "      <th>7339</th>\n",
              "      <td>10898509</td>\n",
              "      <td>8</td>\n",
              "    </tr>\n",
              "    <tr>\n",
              "      <th>6224</th>\n",
              "      <td>10874810</td>\n",
              "      <td>8</td>\n",
              "    </tr>\n",
              "    <tr>\n",
              "      <th>7340</th>\n",
              "      <td>10898510</td>\n",
              "      <td>8</td>\n",
              "    </tr>\n",
              "    <tr>\n",
              "      <th>3651</th>\n",
              "      <td>10791515</td>\n",
              "      <td>8</td>\n",
              "    </tr>\n",
              "    <tr>\n",
              "      <th>40</th>\n",
              "      <td>10211926</td>\n",
              "      <td>8</td>\n",
              "    </tr>\n",
              "    <tr>\n",
              "      <th>7140</th>\n",
              "      <td>10894745</td>\n",
              "      <td>8</td>\n",
              "    </tr>\n",
              "    <tr>\n",
              "      <th>...</th>\n",
              "      <td>...</td>\n",
              "      <td>...</td>\n",
              "    </tr>\n",
              "    <tr>\n",
              "      <th>2918</th>\n",
              "      <td>10772911</td>\n",
              "      <td>1</td>\n",
              "    </tr>\n",
              "    <tr>\n",
              "      <th>2920</th>\n",
              "      <td>10772954</td>\n",
              "      <td>1</td>\n",
              "    </tr>\n",
              "    <tr>\n",
              "      <th>2949</th>\n",
              "      <td>10773854</td>\n",
              "      <td>1</td>\n",
              "    </tr>\n",
              "    <tr>\n",
              "      <th>2921</th>\n",
              "      <td>10772971</td>\n",
              "      <td>1</td>\n",
              "    </tr>\n",
              "    <tr>\n",
              "      <th>2948</th>\n",
              "      <td>10773791</td>\n",
              "      <td>1</td>\n",
              "    </tr>\n",
              "    <tr>\n",
              "      <th>2947</th>\n",
              "      <td>10773722</td>\n",
              "      <td>1</td>\n",
              "    </tr>\n",
              "    <tr>\n",
              "      <th>2946</th>\n",
              "      <td>10773706</td>\n",
              "      <td>1</td>\n",
              "    </tr>\n",
              "    <tr>\n",
              "      <th>2945</th>\n",
              "      <td>10773701</td>\n",
              "      <td>1</td>\n",
              "    </tr>\n",
              "    <tr>\n",
              "      <th>2944</th>\n",
              "      <td>10773673</td>\n",
              "      <td>1</td>\n",
              "    </tr>\n",
              "    <tr>\n",
              "      <th>2943</th>\n",
              "      <td>10773670</td>\n",
              "      <td>1</td>\n",
              "    </tr>\n",
              "    <tr>\n",
              "      <th>2942</th>\n",
              "      <td>10773658</td>\n",
              "      <td>1</td>\n",
              "    </tr>\n",
              "    <tr>\n",
              "      <th>2940</th>\n",
              "      <td>10773600</td>\n",
              "      <td>1</td>\n",
              "    </tr>\n",
              "    <tr>\n",
              "      <th>2938</th>\n",
              "      <td>10773532</td>\n",
              "      <td>1</td>\n",
              "    </tr>\n",
              "    <tr>\n",
              "      <th>2937</th>\n",
              "      <td>10773528</td>\n",
              "      <td>1</td>\n",
              "    </tr>\n",
              "    <tr>\n",
              "      <th>2936</th>\n",
              "      <td>10773489</td>\n",
              "      <td>1</td>\n",
              "    </tr>\n",
              "    <tr>\n",
              "      <th>2935</th>\n",
              "      <td>10773488</td>\n",
              "      <td>1</td>\n",
              "    </tr>\n",
              "    <tr>\n",
              "      <th>2934</th>\n",
              "      <td>10773486</td>\n",
              "      <td>1</td>\n",
              "    </tr>\n",
              "    <tr>\n",
              "      <th>2933</th>\n",
              "      <td>10773387</td>\n",
              "      <td>1</td>\n",
              "    </tr>\n",
              "    <tr>\n",
              "      <th>2932</th>\n",
              "      <td>10773381</td>\n",
              "      <td>1</td>\n",
              "    </tr>\n",
              "    <tr>\n",
              "      <th>2931</th>\n",
              "      <td>10773335</td>\n",
              "      <td>1</td>\n",
              "    </tr>\n",
              "    <tr>\n",
              "      <th>2930</th>\n",
              "      <td>10773326</td>\n",
              "      <td>1</td>\n",
              "    </tr>\n",
              "    <tr>\n",
              "      <th>2929</th>\n",
              "      <td>10773322</td>\n",
              "      <td>1</td>\n",
              "    </tr>\n",
              "    <tr>\n",
              "      <th>2928</th>\n",
              "      <td>10773301</td>\n",
              "      <td>1</td>\n",
              "    </tr>\n",
              "    <tr>\n",
              "      <th>2927</th>\n",
              "      <td>10773214</td>\n",
              "      <td>1</td>\n",
              "    </tr>\n",
              "    <tr>\n",
              "      <th>2926</th>\n",
              "      <td>10773198</td>\n",
              "      <td>1</td>\n",
              "    </tr>\n",
              "    <tr>\n",
              "      <th>2925</th>\n",
              "      <td>10773186</td>\n",
              "      <td>1</td>\n",
              "    </tr>\n",
              "    <tr>\n",
              "      <th>2924</th>\n",
              "      <td>10773155</td>\n",
              "      <td>1</td>\n",
              "    </tr>\n",
              "    <tr>\n",
              "      <th>2923</th>\n",
              "      <td>10773020</td>\n",
              "      <td>1</td>\n",
              "    </tr>\n",
              "    <tr>\n",
              "      <th>2922</th>\n",
              "      <td>10772982</td>\n",
              "      <td>1</td>\n",
              "    </tr>\n",
              "    <tr>\n",
              "      <th>8134</th>\n",
              "      <td>10939299</td>\n",
              "      <td>1</td>\n",
              "    </tr>\n",
              "  </tbody>\n",
              "</table>\n",
              "<p>8135 rows × 2 columns</p>\n",
              "</div>"
            ],
            "text/plain": [
              "      ProductId  Quantity\n",
              "6124   10872007        28\n",
              "6944   10891162        19\n",
              "15     10120391        19\n",
              "7370   10898597        19\n",
              "16     10120392        16\n",
              "7111   10894177        14\n",
              "7345   10898516        13\n",
              "2603   10764174        12\n",
              "7968   10915186        12\n",
              "7267   10897385        11\n",
              "7346   10898518        11\n",
              "6916   10890849        11\n",
              "7028   10892872        11\n",
              "7153   10895051        11\n",
              "3795   10795757        10\n",
              "7926   10913633        10\n",
              "5890   10862359        10\n",
              "7388   10898807         9\n",
              "7358   10898583         9\n",
              "7342   10898512         9\n",
              "7104   10894157         9\n",
              "7643   10904549         9\n",
              "7803   10908651         9\n",
              "5444   10847383         9\n",
              "7339   10898509         8\n",
              "6224   10874810         8\n",
              "7340   10898510         8\n",
              "3651   10791515         8\n",
              "40     10211926         8\n",
              "7140   10894745         8\n",
              "...         ...       ...\n",
              "2918   10772911         1\n",
              "2920   10772954         1\n",
              "2949   10773854         1\n",
              "2921   10772971         1\n",
              "2948   10773791         1\n",
              "2947   10773722         1\n",
              "2946   10773706         1\n",
              "2945   10773701         1\n",
              "2944   10773673         1\n",
              "2943   10773670         1\n",
              "2942   10773658         1\n",
              "2940   10773600         1\n",
              "2938   10773532         1\n",
              "2937   10773528         1\n",
              "2936   10773489         1\n",
              "2935   10773488         1\n",
              "2934   10773486         1\n",
              "2933   10773387         1\n",
              "2932   10773381         1\n",
              "2931   10773335         1\n",
              "2930   10773326         1\n",
              "2929   10773322         1\n",
              "2928   10773301         1\n",
              "2927   10773214         1\n",
              "2926   10773198         1\n",
              "2925   10773186         1\n",
              "2924   10773155         1\n",
              "2923   10773020         1\n",
              "2922   10772982         1\n",
              "8134   10939299         1\n",
              "\n",
              "[8135 rows x 2 columns]"
            ]
          },
          "metadata": {
            "tags": []
          },
          "execution_count": 33
        }
      ]
    },
    {
      "cell_type": "markdown",
      "metadata": {
        "id": "1pRb0c35dfIX",
        "colab_type": "text"
      },
      "source": [
        "<h3> Products </h3>"
      ]
    },
    {
      "cell_type": "code",
      "metadata": {
        "id": "SevAT1S9kMsr",
        "colab_type": "code",
        "outputId": "9923f265-4197-4c67-bc2a-775e23bb7da6",
        "colab": {
          "base_uri": "https://localhost:8080/",
          "height": 238
        }
      },
      "source": [
        "products.isnull().sum().sort_values(ascending=False) / products.shape[0] * 100"
      ],
      "execution_count": 0,
      "outputs": [
        {
          "output_type": "execute_result",
          "data": {
            "text/plain": [
              "Unnamed: 11       99.998318\n",
              "Brand              0.052705\n",
              "Department         0.024110\n",
              "Gender             0.013457\n",
              "SeasonOriginal     0.006168\n",
              "PictureURL         0.004486\n",
              "ItemURL            0.004486\n",
              "MainColour         0.004486\n",
              "Category           0.003925\n",
              "Family             0.003925\n",
              "ProductName        0.000561\n",
              "ProductID          0.000000\n",
              "dtype: float64"
            ]
          },
          "metadata": {
            "tags": []
          },
          "execution_count": 9
        }
      ]
    },
    {
      "cell_type": "code",
      "metadata": {
        "id": "_oeLSSoVcxIG",
        "colab_type": "code",
        "outputId": "ed352c44-1c03-4c50-cdd5-678134d0df7e",
        "colab": {
          "base_uri": "https://localhost:8080/",
          "height": 244
        }
      },
      "source": [
        "products[products.ProductID.astype(str).str.isnumeric()==False]"
      ],
      "execution_count": 0,
      "outputs": [
        {
          "output_type": "execute_result",
          "data": {
            "text/html": [
              "<div>\n",
              "<style scoped>\n",
              "    .dataframe tbody tr th:only-of-type {\n",
              "        vertical-align: middle;\n",
              "    }\n",
              "\n",
              "    .dataframe tbody tr th {\n",
              "        vertical-align: top;\n",
              "    }\n",
              "\n",
              "    .dataframe thead th {\n",
              "        text-align: right;\n",
              "    }\n",
              "</style>\n",
              "<table border=\"1\" class=\"dataframe\">\n",
              "  <thead>\n",
              "    <tr style=\"text-align: right;\">\n",
              "      <th></th>\n",
              "      <th>ProductID</th>\n",
              "      <th>ProductName</th>\n",
              "      <th>Family</th>\n",
              "      <th>Category</th>\n",
              "      <th>SeasonOriginal</th>\n",
              "      <th>Brand</th>\n",
              "      <th>MainColour</th>\n",
              "      <th>ItemURL</th>\n",
              "      <th>PictureURL</th>\n",
              "      <th>Department</th>\n",
              "      <th>Gender</th>\n",
              "      <th>Unnamed: 11</th>\n",
              "    </tr>\n",
              "  </thead>\n",
              "  <tbody>\n",
              "    <tr>\n",
              "      <th>52509</th>\n",
              "      <td>74/38/82/10743882_3639004_200.jpg</td>\n",
              "      <td>Luxe</td>\n",
              "      <td>MEN</td>\n",
              "      <td>NaN</td>\n",
              "      <td>NaN</td>\n",
              "      <td>NaN</td>\n",
              "      <td>NaN</td>\n",
              "      <td>NaN</td>\n",
              "      <td>NaN</td>\n",
              "      <td>NaN</td>\n",
              "      <td>NaN</td>\n",
              "      <td>NaN</td>\n",
              "    </tr>\n",
              "    <tr>\n",
              "      <th>86184</th>\n",
              "      <td>http://cdn-images.farfetch.com/10/78/48/07/107...</td>\n",
              "      <td>Luxe</td>\n",
              "      <td>MEN</td>\n",
              "      <td>NaN</td>\n",
              "      <td>NaN</td>\n",
              "      <td>NaN</td>\n",
              "      <td>NaN</td>\n",
              "      <td>NaN</td>\n",
              "      <td>NaN</td>\n",
              "      <td>NaN</td>\n",
              "      <td>NaN</td>\n",
              "      <td>NaN</td>\n",
              "    </tr>\n",
              "    <tr>\n",
              "      <th>100992</th>\n",
              "      <td>g</td>\n",
              "      <td>Luxe</td>\n",
              "      <td>WOMEN</td>\n",
              "      <td>NaN</td>\n",
              "      <td>NaN</td>\n",
              "      <td>NaN</td>\n",
              "      <td>NaN</td>\n",
              "      <td>NaN</td>\n",
              "      <td>NaN</td>\n",
              "      <td>NaN</td>\n",
              "      <td>NaN</td>\n",
              "      <td>NaN</td>\n",
              "    </tr>\n",
              "    <tr>\n",
              "      <th>172142</th>\n",
              "      <td>5337.aspx</td>\n",
              "      <td>http://cdn-images.farfetch.com/10/86/53/37/108...</td>\n",
              "      <td>Luxe</td>\n",
              "      <td>WOMEN</td>\n",
              "      <td>NaN</td>\n",
              "      <td>NaN</td>\n",
              "      <td>NaN</td>\n",
              "      <td>NaN</td>\n",
              "      <td>NaN</td>\n",
              "      <td>NaN</td>\n",
              "      <td>NaN</td>\n",
              "      <td>NaN</td>\n",
              "    </tr>\n",
              "  </tbody>\n",
              "</table>\n",
              "</div>"
            ],
            "text/plain": [
              "                                                ProductID  \\\n",
              "52509                   74/38/82/10743882_3639004_200.jpg   \n",
              "86184   http://cdn-images.farfetch.com/10/78/48/07/107...   \n",
              "100992                                                  g   \n",
              "172142                                          5337.aspx   \n",
              "\n",
              "                                              ProductName Family Category  \\\n",
              "52509                                                Luxe    MEN      NaN   \n",
              "86184                                                Luxe    MEN      NaN   \n",
              "100992                                               Luxe  WOMEN      NaN   \n",
              "172142  http://cdn-images.farfetch.com/10/86/53/37/108...   Luxe    WOMEN   \n",
              "\n",
              "       SeasonOriginal Brand MainColour ItemURL PictureURL Department Gender  \\\n",
              "52509             NaN   NaN        NaN     NaN        NaN        NaN    NaN   \n",
              "86184             NaN   NaN        NaN     NaN        NaN        NaN    NaN   \n",
              "100992            NaN   NaN        NaN     NaN        NaN        NaN    NaN   \n",
              "172142            NaN   NaN        NaN     NaN        NaN        NaN    NaN   \n",
              "\n",
              "       Unnamed: 11  \n",
              "52509          NaN  \n",
              "86184          NaN  \n",
              "100992         NaN  \n",
              "172142         NaN  "
            ]
          },
          "metadata": {
            "tags": []
          },
          "execution_count": 25
        }
      ]
    },
    {
      "cell_type": "code",
      "metadata": {
        "id": "j4BQJMsjgphl",
        "colab_type": "code",
        "colab": {}
      },
      "source": [
        "products = products[products.ProductID.astype(str).str.isnumeric()==True]"
      ],
      "execution_count": 0,
      "outputs": []
    },
    {
      "cell_type": "code",
      "metadata": {
        "id": "yDIaYkzWoWlM",
        "colab_type": "code",
        "colab": {}
      },
      "source": [
        "products = products.drop(labels='Unnamed: 11', axis=1)"
      ],
      "execution_count": 0,
      "outputs": []
    },
    {
      "cell_type": "code",
      "metadata": {
        "id": "ILcSl6edpeTd",
        "colab_type": "code",
        "colab": {}
      },
      "source": [
        "products=products.dropna()"
      ],
      "execution_count": 0,
      "outputs": []
    },
    {
      "cell_type": "code",
      "metadata": {
        "id": "Z4IiveKyp3mK",
        "colab_type": "code",
        "outputId": "c2f06bbd-c8cf-47b4-b8eb-1c122c3af1bc",
        "colab": {
          "base_uri": "https://localhost:8080/",
          "height": 597
        }
      },
      "source": [
        "fig, ax = plt.subplots(nrows=1, ncols=6, sharey=False, figsize=(60,8))\n",
        "\n",
        "ax[0].set_title(\"Family\")\n",
        "ax[1].set_title(\"Category\")\n",
        "ax[2].set_title(\"Brand\")\n",
        "ax[3].set_title(\"Season\")\n",
        "ax[4].set_title(\"Gender\")\n",
        "ax[5].set_title(\"Department\")\n",
        "\n",
        "count = products.Family.value_counts()\n",
        "count.sort_values().plot(kind='barh',  legend=False, ax=ax[0])\n",
        "\n",
        "count = products.Category.value_counts()\n",
        "count.nlargest(30).sort_values().plot(kind='barh',  legend=False, ax=ax[1])\n",
        "\n",
        "count = products.Brand.value_counts()\n",
        "count.nlargest(30).sort_values().plot(kind='barh',  legend=False, ax=ax[2])\n",
        "\n",
        "count = products.SeasonOriginal.value_counts()\n",
        "count.sort_values().plot(kind='barh',  legend=False, ax=ax[3])\n",
        "\n",
        "count = products.Gender.value_counts()\n",
        "count.sort_values().plot(kind='bar',  legend=False, ax=ax[4])\n",
        "\n",
        "count = products.Department.value_counts()\n",
        "count.sort_values().plot(kind='bar',  legend=False, ax=ax[5])"
      ],
      "execution_count": 0,
      "outputs": [
        {
          "output_type": "execute_result",
          "data": {
            "text/plain": [
              "<matplotlib.axes._subplots.AxesSubplot at 0x7f4e6f910470>"
            ]
          },
          "metadata": {
            "tags": []
          },
          "execution_count": 63
        },
        {
          "output_type": "display_data",
          "data": {
            "image/png": "[encoded data removed]",
            "text/plain": [
              "<Figure size 4320x576 with 6 Axes>"
            ]
          },
          "metadata": {
            "tags": []
          }
        }
      ]
    },
    {
      "cell_type": "markdown",
      "metadata": {
        "id": "A_qhk6VwvvSf",
        "colab_type": "text"
      },
      "source": [
        "<h3> User </h3>"
      ]
    },
    {
      "cell_type": "code",
      "metadata": {
        "id": "awuuKFfiI1kB",
        "colab_type": "code",
        "outputId": "518b8ad1-e7a5-4c8c-b9ea-88c6abf97741",
        "colab": {
          "base_uri": "https://localhost:8080/",
          "height": 204
        }
      },
      "source": [
        "users.isnull().sum().sort_values(ascending=False) / users.shape[0] * 100"
      ],
      "execution_count": 0,
      "outputs": [
        {
          "output_type": "execute_result",
          "data": {
            "text/plain": [
              "Birthday                  89.794377\n",
              "IsVIP                      0.000000\n",
              "IsPersonalShopper          0.000000\n",
              "IsUsingMultipleDevices     0.000000\n",
              "HasItemsOnBag              0.000000\n",
              "HasUsedWishlist            0.000000\n",
              "IsSubscribed               0.000000\n",
              "UserType                   0.000000\n",
              "Gender                     0.000000\n",
              "UserID                     0.000000\n",
              "dtype: float64"
            ]
          },
          "metadata": {
            "tags": []
          },
          "execution_count": 5
        }
      ]
    },
    {
      "cell_type": "code",
      "metadata": {
        "id": "vpMIuSaKI-6x",
        "colab_type": "code",
        "outputId": "ad526831-7849-4585-8b0e-87e9764a0360",
        "colab": {
          "base_uri": "https://localhost:8080/",
          "height": 606
        }
      },
      "source": [
        "fig, ax = plt.subplots(nrows=1, ncols=5, sharey=False, figsize=(60,8))\n",
        "\n",
        "ax[0].set_title(\"UserType\")\n",
        "ax[1].set_title(\"Gender\")\n",
        "ax[2].set_title(\"Wishlist\")\n",
        "ax[3].set_title(\"Personal Shopper\")\n",
        "ax[4].set_title(\"VIP\")\n",
        "\n",
        "count = users.UserType.value_counts()\n",
        "count.sort_values().plot(kind='bar',  legend=False, ax=ax[0])\n",
        "\n",
        "count = users.Gender.value_counts()\n",
        "count.nlargest(30).sort_values().plot(kind='bar',  legend=False, ax=ax[1])\n",
        "\n",
        "count = users.HasUsedWishlist.value_counts()\n",
        "count.nlargest(30).sort_values().plot(kind='bar',  legend=False, ax=ax[2])\n",
        "\n",
        "count = users.IsPersonalShopper.value_counts()\n",
        "count.sort_values().plot(kind='bar',  legend=False, ax=ax[3])\n",
        "\n",
        "count = users.IsVIP.value_counts()\n",
        "count.sort_values().plot(kind='bar',  legend=False, ax=ax[4])"
      ],
      "execution_count": 0,
      "outputs": [
        {
          "output_type": "execute_result",
          "data": {
            "text/plain": [
              "<matplotlib.axes._subplots.AxesSubplot at 0x7f0bc8eab2b0>"
            ]
          },
          "metadata": {
            "tags": []
          },
          "execution_count": 7
        },
        {
          "output_type": "display_data",
          "data": {
            "image/png": "[encoded data removed]",
            "text/plain": [
              "<Figure size 4320x576 with 5 Axes>"
            ]
          },
          "metadata": {
            "tags": []
          }
        }
      ]
    },
    {
      "cell_type": "markdown",
      "metadata": {
        "id": "JxzsSoCXPybt",
        "colab_type": "text"
      },
      "source": [
        "<h3> Online Behavior - Cookies </h3>"
      ]
    },
    {
      "cell_type": "code",
      "metadata": {
        "id": "EC7JOrYafSXQ",
        "colab_type": "code",
        "outputId": "fa4a6121-ebe8-43a0-addb-d53bf7047812",
        "colab": {
          "base_uri": "https://localhost:8080/",
          "height": 213
        }
      },
      "source": [
        "clickstream.head(3)"
      ],
      "execution_count": 0,
      "outputs": [
        {
          "output_type": "execute_result",
          "data": {
            "text/html": [
              "<div>\n",
              "<style scoped>\n",
              "    .dataframe tbody tr th:only-of-type {\n",
              "        vertical-align: middle;\n",
              "    }\n",
              "\n",
              "    .dataframe tbody tr th {\n",
              "        vertical-align: top;\n",
              "    }\n",
              "\n",
              "    .dataframe thead th {\n",
              "        text-align: right;\n",
              "    }\n",
              "</style>\n",
              "<table border=\"1\" class=\"dataframe\">\n",
              "  <thead>\n",
              "    <tr style=\"text-align: right;\">\n",
              "      <th></th>\n",
              "      <th>PageViewDate</th>\n",
              "      <th>sessionid</th>\n",
              "      <th>SessionIdFinal</th>\n",
              "      <th>CookieID</th>\n",
              "      <th>PageType</th>\n",
              "      <th>PageSubType</th>\n",
              "      <th>PageURL</th>\n",
              "      <th>Referral</th>\n",
              "      <th>ProductID</th>\n",
              "      <th>UserID</th>\n",
              "      <th>UserIDIdentified</th>\n",
              "      <th>GeoSubfolder</th>\n",
              "      <th>orderportalid</th>\n",
              "    </tr>\n",
              "  </thead>\n",
              "  <tbody>\n",
              "    <tr>\n",
              "      <th>0</th>\n",
              "      <td>2015-01-14 09:25:31.947</td>\n",
              "      <td>wk3qgqkpfy1qel0tbcats5jm</td>\n",
              "      <td>wk3qgqkpfy1qel0tbcats5jm-D20150114-N7277</td>\n",
              "      <td>iwo0v34xejz3tooxqleberel578CEF4562824948040D78...</td>\n",
              "      <td>Product Page</td>\n",
              "      <td>Product Page</td>\n",
              "      <td>http://www.farfetch.com/shopping/women/lanvin-...</td>\n",
              "      <td>http://www.farfetch.com/shopping/women/sale/cl...</td>\n",
              "      <td>10746328</td>\n",
              "      <td>NaN</td>\n",
              "      <td>0xEB088890C11305AEE5A0A37C52B9BA72</td>\n",
              "      <td>United States</td>\n",
              "      <td>NaN</td>\n",
              "    </tr>\n",
              "    <tr>\n",
              "      <th>1</th>\n",
              "      <td>2015-01-17 03:52:08.497</td>\n",
              "      <td>w50e1wkg0wuimfenyhun0qgw</td>\n",
              "      <td>w50e1wkg0wuimfenyhun0qgw-D20150117-N27106</td>\n",
              "      <td>wnjklehkxfe4mlhb3bktal52B6E6A8F0D4C02EDD9193E8...</td>\n",
              "      <td>Product Page</td>\n",
              "      <td>Product Page</td>\n",
              "      <td>http://www.farfetch.com/shopping/women/31-phil...</td>\n",
              "      <td>http://www.farfetch.com/shopping/women/search/...</td>\n",
              "      <td>10727895</td>\n",
              "      <td>NaN</td>\n",
              "      <td>0x4B6768C3E224027796A5D371B5C1F768</td>\n",
              "      <td>United States</td>\n",
              "      <td>NaN</td>\n",
              "    </tr>\n",
              "    <tr>\n",
              "      <th>2</th>\n",
              "      <td>2015-01-16 19:24:42.147</td>\n",
              "      <td>jaotvjamk25jd0mhipkfgt2p</td>\n",
              "      <td>jaotvjamk25jd0mhipkfgt2p-D20150116-N27816</td>\n",
              "      <td>bl0o3jldripyitenac3uf4lp2C9533ED0C61696B551139...</td>\n",
              "      <td>Product Page</td>\n",
              "      <td>Product Page</td>\n",
              "      <td>http://www.farfetch.com/shopping/men/dsquared2...</td>\n",
              "      <td>http://www.farfetch.com/shopping/men/dsquared2...</td>\n",
              "      <td>10734558</td>\n",
              "      <td>NaN</td>\n",
              "      <td>0x8A31556FC4BB8DE629E7DCD6000D63F4</td>\n",
              "      <td>United States</td>\n",
              "      <td>NaN</td>\n",
              "    </tr>\n",
              "  </tbody>\n",
              "</table>\n",
              "</div>"
            ],
            "text/plain": [
              "              PageViewDate                 sessionid  \\\n",
              "0  2015-01-14 09:25:31.947  wk3qgqkpfy1qel0tbcats5jm   \n",
              "1  2015-01-17 03:52:08.497  w50e1wkg0wuimfenyhun0qgw   \n",
              "2  2015-01-16 19:24:42.147  jaotvjamk25jd0mhipkfgt2p   \n",
              "\n",
              "                              SessionIdFinal  \\\n",
              "0   wk3qgqkpfy1qel0tbcats5jm-D20150114-N7277   \n",
              "1  w50e1wkg0wuimfenyhun0qgw-D20150117-N27106   \n",
              "2  jaotvjamk25jd0mhipkfgt2p-D20150116-N27816   \n",
              "\n",
              "                                            CookieID      PageType  \\\n",
              "0  iwo0v34xejz3tooxqleberel578CEF4562824948040D78...  Product Page   \n",
              "1  wnjklehkxfe4mlhb3bktal52B6E6A8F0D4C02EDD9193E8...  Product Page   \n",
              "2  bl0o3jldripyitenac3uf4lp2C9533ED0C61696B551139...  Product Page   \n",
              "\n",
              "    PageSubType                                            PageURL  \\\n",
              "0  Product Page  http://www.farfetch.com/shopping/women/lanvin-...   \n",
              "1  Product Page  http://www.farfetch.com/shopping/women/31-phil...   \n",
              "2  Product Page  http://www.farfetch.com/shopping/men/dsquared2...   \n",
              "\n",
              "                                            Referral  ProductID UserID  \\\n",
              "0  http://www.farfetch.com/shopping/women/sale/cl...   10746328    NaN   \n",
              "1  http://www.farfetch.com/shopping/women/search/...   10727895    NaN   \n",
              "2  http://www.farfetch.com/shopping/men/dsquared2...   10734558    NaN   \n",
              "\n",
              "                     UserIDIdentified   GeoSubfolder  orderportalid  \n",
              "0  0xEB088890C11305AEE5A0A37C52B9BA72  United States            NaN  \n",
              "1  0x4B6768C3E224027796A5D371B5C1F768  United States            NaN  \n",
              "2  0x8A31556FC4BB8DE629E7DCD6000D63F4  United States            NaN  "
            ]
          },
          "metadata": {
            "tags": []
          },
          "execution_count": 10
        }
      ]
    },
    {
      "cell_type": "code",
      "metadata": {
        "id": "bj9HIn63P4zQ",
        "colab_type": "code",
        "outputId": "621c58ed-1b00-408b-922d-39f5cd3fc349",
        "colab": {
          "base_uri": "https://localhost:8080/",
          "height": 255
        }
      },
      "source": [
        "clickstream.isnull().sum().sort_values(ascending=False) / clickstream.shape[0] * 100"
      ],
      "execution_count": 0,
      "outputs": [
        {
          "output_type": "execute_result",
          "data": {
            "text/plain": [
              "orderportalid       99.7793\n",
              "UserID              87.7539\n",
              "UserIDIdentified    48.4576\n",
              "Referral             0.2451\n",
              "PageURL              0.2451\n",
              "GeoSubfolder         0.0002\n",
              "ProductID            0.0000\n",
              "PageSubType          0.0000\n",
              "PageType             0.0000\n",
              "CookieID             0.0000\n",
              "SessionIdFinal       0.0000\n",
              "sessionid            0.0000\n",
              "PageViewDate         0.0000\n",
              "dtype: float64"
            ]
          },
          "metadata": {
            "tags": []
          },
          "execution_count": 9
        }
      ]
    },
    {
      "cell_type": "code",
      "metadata": {
        "id": "kDGiFP9Af-7R",
        "colab_type": "code",
        "outputId": "15f25109-9121-4c4c-ad9c-90154231f4ad",
        "colab": {
          "base_uri": "https://localhost:8080/",
          "height": 68
        }
      },
      "source": [
        "clickstream.PageType.unique()"
      ],
      "execution_count": 0,
      "outputs": [
        {
          "output_type": "execute_result",
          "data": {
            "text/plain": [
              "array(['Product Page', 'Listing Page', 'User Account', 'Checkout Page',\n",
              "       'Others', 'Boutiques', 'People', 'Home Page', 'Designers'],\n",
              "      dtype=object)"
            ]
          },
          "metadata": {
            "tags": []
          },
          "execution_count": 13
        }
      ]
    },
    {
      "cell_type": "code",
      "metadata": {
        "id": "Lv24_3_AhYey",
        "colab_type": "code",
        "outputId": "caf86036-67f9-4137-ad09-ce65ed4244c3",
        "colab": {
          "base_uri": "https://localhost:8080/",
          "height": 272
        }
      },
      "source": [
        "explode = (0, 0.1, 0, 0, 0)\n",
        "(clickstream.PageType.value_counts() / clickstream.shape[0] * 100).nlargest(5).plot(kind='pie',shadow=True, explode=explode, autopct='%1.1f%%')"
      ],
      "execution_count": 0,
      "outputs": [
        {
          "output_type": "execute_result",
          "data": {
            "text/plain": [
              "<matplotlib.axes._subplots.AxesSubplot at 0x7f0bc95bf438>"
            ]
          },
          "metadata": {
            "tags": []
          },
          "execution_count": 29
        },
        {
          "output_type": "display_data",
          "data": {
            "image/png": "[encoded data removed]",
            "text/plain": [
              "<Figure size 432x288 with 1 Axes>"
            ]
          },
          "metadata": {
            "tags": []
          }
        }
      ]
    },
    {
      "cell_type": "code",
      "metadata": {
        "id": "jD-Oc3vHlFaA",
        "colab_type": "code",
        "colab": {}
      },
      "source": [
        "prod_stream = clickstream[clickstream.PageType==\"Product Page\"]"
      ],
      "execution_count": 0,
      "outputs": []
    },
    {
      "cell_type": "code",
      "metadata": {
        "id": "6NVQhVAQYGDS",
        "colab_type": "code",
        "outputId": "76a97699-1845-40de-d05c-fec7397ffff7",
        "colab": {
          "base_uri": "https://localhost:8080/",
          "height": 85
        }
      },
      "source": [
        "print(\"Product most consult has been seen {} times\" .format(prod_stream.ProductID.value_counts().max()))\n",
        "print(\"Product less consult has been seen {} time\" .format(prod_stream.ProductID.value_counts().min()))\n",
        "print(\"Product average consulted has been seen {} times\" .format(prod_stream.ProductID.value_counts().mean()))\n",
        "print(\"Product median consulted has been seen {} times\" .format(prod_stream.ProductID.value_counts().median()))"
      ],
      "execution_count": 0,
      "outputs": [
        {
          "output_type": "stream",
          "text": [
            "Product most consult has been seen 618 times\n",
            "Product less consult has been seen 1 time\n",
            "Product average consulted has been seen 4.511043991798347 times\n",
            "Product median consulted has been seen 2.0 times\n"
          ],
          "name": "stdout"
        }
      ]
    },
    {
      "cell_type": "code",
      "metadata": {
        "id": "yB5_Q-ZboUjg",
        "colab_type": "code",
        "outputId": "22a0e0ef-06b8-4b35-af64-c30a5f7bdc6d",
        "colab": {
          "base_uri": "https://localhost:8080/",
          "height": 34
        }
      },
      "source": [
        "print(\"Number of customer who consulted products : {} \" .format(len(prod_stream.UserIDIdentified.unique())))"
      ],
      "execution_count": 0,
      "outputs": [
        {
          "output_type": "stream",
          "text": [
            "Number of customer who consulted products : 47072 \n"
          ],
          "name": "stdout"
        }
      ]
    },
    {
      "cell_type": "code",
      "metadata": {
        "id": "FnYVsnL0pO_1",
        "colab_type": "code",
        "outputId": "27531cfd-e33d-495f-dc37-2635e1dd81f1",
        "colab": {
          "base_uri": "https://localhost:8080/",
          "height": 85
        }
      },
      "source": [
        "print(\"Customer with the most visit has {} visits on products\" .format(prod_stream.UserIDIdentified.value_counts().max()))\n",
        "print(\"Customer with the most visit has {} visits on products\" .format(prod_stream.UserIDIdentified.value_counts().min()))\n",
        "print(\"Customer average visits: {}\" .format(prod_stream.UserIDIdentified.value_counts().mean()))\n",
        "print(\"Customer median visits: {}\" .format(prod_stream.UserIDIdentified.value_counts().median()))"
      ],
      "execution_count": 0,
      "outputs": [
        {
          "output_type": "stream",
          "text": [
            "Customer with the most vist has 290 visits on products\n",
            "Customer with the most vist has 1 visits on products\n",
            "Customer average visits: 4.145928491002953\n",
            "Customer median visits: 2.0\n"
          ],
          "name": "stdout"
        }
      ]
    },
    {
      "cell_type": "markdown",
      "metadata": {
        "id": "1qHQd1ketXfd",
        "colab_type": "text"
      },
      "source": [
        "<h3> Action online Management </h3>"
      ]
    },
    {
      "cell_type": "code",
      "metadata": {
        "id": "jQCKqpvHq9Kh",
        "colab_type": "code",
        "colab": {}
      },
      "source": [
        "action = click_user[click_user.PageType==\"Product Page\"]"
      ],
      "execution_count": 0,
      "outputs": []
    },
    {
      "cell_type": "code",
      "metadata": {
        "id": "KiSa2PkzrjCf",
        "colab_type": "code",
        "outputId": "ff5119c3-59ad-4a87-bfc7-cc9ece077674",
        "colab": {
          "base_uri": "https://localhost:8080/",
          "height": 199
        }
      },
      "source": [
        "action.head(2)"
      ],
      "execution_count": 0,
      "outputs": [
        {
          "output_type": "execute_result",
          "data": {
            "text/html": [
              "<div>\n",
              "<style scoped>\n",
              "    .dataframe tbody tr th:only-of-type {\n",
              "        vertical-align: middle;\n",
              "    }\n",
              "\n",
              "    .dataframe tbody tr th {\n",
              "        vertical-align: top;\n",
              "    }\n",
              "\n",
              "    .dataframe thead th {\n",
              "        text-align: right;\n",
              "    }\n",
              "</style>\n",
              "<table border=\"1\" class=\"dataframe\">\n",
              "  <thead>\n",
              "    <tr style=\"text-align: right;\">\n",
              "      <th></th>\n",
              "      <th>ActionDate</th>\n",
              "      <th>sessionid</th>\n",
              "      <th>SessionIdFinal</th>\n",
              "      <th>CookieID</th>\n",
              "      <th>PageType</th>\n",
              "      <th>PageSubType</th>\n",
              "      <th>URL</th>\n",
              "      <th>ProductID</th>\n",
              "      <th>trackerId</th>\n",
              "      <th>UserAction</th>\n",
              "      <th>UserID</th>\n",
              "      <th>UserIDIdentified</th>\n",
              "      <th>GeoSubfolder</th>\n",
              "    </tr>\n",
              "  </thead>\n",
              "  <tbody>\n",
              "    <tr>\n",
              "      <th>104</th>\n",
              "      <td>2015-01-18 12:23:50.607</td>\n",
              "      <td>azmpdplgdiyz12noz3qal0zx</td>\n",
              "      <td>azmpdplgdiyz12noz3qal0zx-D20150118-N0</td>\n",
              "      <td>azmpdplgdiyz12noz3qal0zx6A538E2E197020770B8AAF...</td>\n",
              "      <td>Product Page</td>\n",
              "      <td>Product Page</td>\n",
              "      <td>http://www.farfetch.com/shopping/men/rick-owen...</td>\n",
              "      <td>10739967</td>\n",
              "      <td>236</td>\n",
              "      <td>Click on forward arrow</td>\n",
              "      <td>0xCFCD208495D565EF66E7DFF9F98764DA</td>\n",
              "      <td>0xCFCD208495D565EF66E7DFF9F98764DA</td>\n",
              "      <td>United States</td>\n",
              "    </tr>\n",
              "    <tr>\n",
              "      <th>105</th>\n",
              "      <td>2015-01-18 12:23:52.967</td>\n",
              "      <td>azmpdplgdiyz12noz3qal0zx</td>\n",
              "      <td>azmpdplgdiyz12noz3qal0zx-D20150118-N0</td>\n",
              "      <td>azmpdplgdiyz12noz3qal0zx6A538E2E197020770B8AAF...</td>\n",
              "      <td>Product Page</td>\n",
              "      <td>Product Page</td>\n",
              "      <td>http://www.farfetch.com/shopping/men/rick-owen...</td>\n",
              "      <td>10739967</td>\n",
              "      <td>236</td>\n",
              "      <td>Click on forward arrow</td>\n",
              "      <td>0xCFCD208495D565EF66E7DFF9F98764DA</td>\n",
              "      <td>0xCFCD208495D565EF66E7DFF9F98764DA</td>\n",
              "      <td>United States</td>\n",
              "    </tr>\n",
              "  </tbody>\n",
              "</table>\n",
              "</div>"
            ],
            "text/plain": [
              "                  ActionDate                 sessionid  \\\n",
              "104  2015-01-18 12:23:50.607  azmpdplgdiyz12noz3qal0zx   \n",
              "105  2015-01-18 12:23:52.967  azmpdplgdiyz12noz3qal0zx   \n",
              "\n",
              "                            SessionIdFinal  \\\n",
              "104  azmpdplgdiyz12noz3qal0zx-D20150118-N0   \n",
              "105  azmpdplgdiyz12noz3qal0zx-D20150118-N0   \n",
              "\n",
              "                                              CookieID      PageType  \\\n",
              "104  azmpdplgdiyz12noz3qal0zx6A538E2E197020770B8AAF...  Product Page   \n",
              "105  azmpdplgdiyz12noz3qal0zx6A538E2E197020770B8AAF...  Product Page   \n",
              "\n",
              "      PageSubType                                                URL  \\\n",
              "104  Product Page  http://www.farfetch.com/shopping/men/rick-owen...   \n",
              "105  Product Page  http://www.farfetch.com/shopping/men/rick-owen...   \n",
              "\n",
              "     ProductID  trackerId              UserAction  \\\n",
              "104   10739967        236  Click on forward arrow   \n",
              "105   10739967        236  Click on forward arrow   \n",
              "\n",
              "                                 UserID                    UserIDIdentified  \\\n",
              "104  0xCFCD208495D565EF66E7DFF9F98764DA  0xCFCD208495D565EF66E7DFF9F98764DA   \n",
              "105  0xCFCD208495D565EF66E7DFF9F98764DA  0xCFCD208495D565EF66E7DFF9F98764DA   \n",
              "\n",
              "      GeoSubfolder  \n",
              "104  United States  \n",
              "105  United States  "
            ]
          },
          "metadata": {
            "tags": []
          },
          "execution_count": 46
        }
      ]
    },
    {
      "cell_type": "code",
      "metadata": {
        "id": "EiyOEcl1rrHg",
        "colab_type": "code",
        "outputId": "d4f311db-8640-42d9-83e4-fbbd1e6cd739",
        "colab": {
          "base_uri": "https://localhost:8080/",
          "height": 391
        }
      },
      "source": [
        "action.UserAction.unique()"
      ],
      "execution_count": 0,
      "outputs": [
        {
          "output_type": "execute_result",
          "data": {
            "text/plain": [
              "array(['Click on forward arrow', 'Click on navigation of thumbnails',\n",
              "       'N/D', 'Click on picture',\n",
              "       'Notify me if back in stock, click on Send button',\n",
              "       'Is your size not available?', 'Expand/Collapse Description',\n",
              "       'Click on drop down to select size', 'Pause video', 'Add to Bag',\n",
              "       'Save', 'Expand/Collapse Size and Fit', 'Expand/Collapse Boutique',\n",
              "       'Click to see Bag details on Header', 'Size guide',\n",
              "       'Click on back arrow', 'Click on Full Screen',\n",
              "       'Expand/Collapse Composition Care', 'Play video',\n",
              "       'Remove from bag', 'Unsave', 'Click on Next to other page',\n",
              "       'Sort by other', 'Click to see Favorite details on Header',\n",
              "       'Click on \"60\"/\"180\"', 'Click on \"Register\"', 'End video',\n",
              "       'Expand/Collapse Shipping & Free Returns',\n",
              "       'Click to contact CS team',\n",
              "       'Click to see Sign In/Register details on Header',\n",
              "       'Close Header tab', 'Resume video', 'Follow Boutique',\n",
              "       'Click on NickName to see dropdown list of options',\n",
              "       'Click on \"Sign In\"', 'Notify me if back in stock',\n",
              "       'Use Multi-Select filter', 'Click on back to top arrow',\n",
              "       'Use Price filter', 'Follow Designer', 'Clear button',\n",
              "       'Clear Multi-Select filter (clear all)', 'Add email',\n",
              "       'Unfollow Boutique', 'Unfollow Designer'], dtype=object)"
            ]
          },
          "metadata": {
            "tags": []
          },
          "execution_count": 47
        }
      ]
    },
    {
      "cell_type": "code",
      "metadata": {
        "id": "dLybbd8Asme6",
        "colab_type": "code",
        "colab": {}
      },
      "source": [
        "action_positive = action[action.UserAction.isin(['Notify me if back in stock, click on Send button'\n",
        "                                                 ,'Save',\n",
        "                                                'Follow Designer',\n",
        "                                                'Add to Bag'])]"
      ],
      "execution_count": 0,
      "outputs": []
    },
    {
      "cell_type": "code",
      "metadata": {
        "id": "TveCFfa_uZ_p",
        "colab_type": "code",
        "outputId": "eb728754-dd9e-442f-f6a2-9fd4560518b6",
        "colab": {
          "base_uri": "https://localhost:8080/",
          "height": 102
        }
      },
      "source": [
        "action_positive.UserAction.value_counts()"
      ],
      "execution_count": 0,
      "outputs": [
        {
          "output_type": "execute_result",
          "data": {
            "text/plain": [
              "Add to Bag                                          27090\n",
              "Save                                                 8739\n",
              "Notify me if back in stock, click on Send button     1434\n",
              "Follow Designer                                        35\n",
              "Name: UserAction, dtype: int64"
            ]
          },
          "metadata": {
            "tags": []
          },
          "execution_count": 50
        }
      ]
    },
    {
      "cell_type": "code",
      "metadata": {
        "id": "bIvFUPX2tVQd",
        "colab_type": "code",
        "colab": {}
      },
      "source": [
        "negative_action = action[action.UserAction.isin(['Unsave'\n",
        "                                                 ,'Unfollow Boutique',\n",
        "                                                'Unfollow Designer',\n",
        "                                                'Remove from bag'])]"
      ],
      "execution_count": 0,
      "outputs": []
    },
    {
      "cell_type": "code",
      "metadata": {
        "id": "odO32WXFuno5",
        "colab_type": "code",
        "outputId": "633390e8-937a-4cee-a7e1-862134fc88b2",
        "colab": {
          "base_uri": "https://localhost:8080/",
          "height": 102
        }
      },
      "source": [
        "negative_action.UserAction.value_counts()"
      ],
      "execution_count": 0,
      "outputs": [
        {
          "output_type": "execute_result",
          "data": {
            "text/plain": [
              "Unsave               1557\n",
              "Remove from bag      1116\n",
              "Unfollow Boutique      11\n",
              "Unfollow Designer       3\n",
              "Name: UserAction, dtype: int64"
            ]
          },
          "metadata": {
            "tags": []
          },
          "execution_count": 51
        }
      ]
    },
    {
      "cell_type": "markdown",
      "metadata": {
        "id": "RwrJ7CEX4vNO",
        "colab_type": "text"
      },
      "source": [
        "<h2> Creation of a Brand Table </h2> "
      ]
    },
    {
      "cell_type": "code",
      "metadata": {
        "id": "vfRG2FXh998H",
        "colab_type": "code",
        "colab": {}
      },
      "source": [
        "brand_table = pd.DataFrame(data=products.Brand.unique(), columns=['Brands'])"
      ],
      "execution_count": 0,
      "outputs": []
    },
    {
      "cell_type": "code",
      "metadata": {
        "id": "0ULU1sUw-Qsl",
        "colab_type": "code",
        "colab": {}
      },
      "source": [
        "brand_table[\"Number of products\"] = brand_table.Brands.map(products.Brand.value_counts())"
      ],
      "execution_count": 0,
      "outputs": []
    },
    {
      "cell_type": "code",
      "metadata": {
        "id": "5YRDi6Eo4uyW",
        "colab_type": "code",
        "colab": {}
      },
      "source": [
        "test = products[[\"Brand\",\"MainColour\"]].astype(str)\n",
        "brand_table[\"Colour\"] = brand_table.Brands.map(test.groupby(['Brand'])['MainColour'].apply(lambda x: ','.join(list(set(x)))))"
      ],
      "execution_count": 0,
      "outputs": []
    },
    {
      "cell_type": "code",
      "metadata": {
        "colab_type": "code",
        "id": "k7S4fcMoINQW",
        "colab": {}
      },
      "source": [
        "test = products[[\"Brand\",\"Family\"]].astype(str)\n",
        "brand_table[\"Family\"] = brand_table.Brands.map(test.groupby(['Brand'])['Family'].apply(lambda x: ','.join(list(set(x)))))"
      ],
      "execution_count": 0,
      "outputs": []
    },
    {
      "cell_type": "code",
      "metadata": {
        "colab_type": "code",
        "id": "CfHf5OWTIXtV",
        "colab": {}
      },
      "source": [
        "test = products[[\"Brand\",\"SeasonOriginal\"]].astype(str)\n",
        "brand_table[\"Season\"] = brand_table.Brands.map(test.groupby(['Brand'])['SeasonOriginal'].apply(lambda x: ','.join(list(set(x)))))"
      ],
      "execution_count": 0,
      "outputs": []
    },
    {
      "cell_type": "code",
      "metadata": {
        "id": "JDct2okZIsWG",
        "colab_type": "code",
        "colab": {}
      },
      "source": [
        "test = products[[\"Brand\",\"Department\"]].astype(str)\n",
        "brand_table[\"Department\"] = brand_table.Brands.map(test.groupby(['Brand'])['Department'].apply(lambda x: ','.join(list(set(x)))))"
      ],
      "execution_count": 0,
      "outputs": []
    },
    {
      "cell_type": "code",
      "metadata": {
        "id": "Oik0UlREJMtw",
        "colab_type": "code",
        "colab": {}
      },
      "source": [
        "test = products[[\"Brand\",\"Gender\"]].astype(str)\n",
        "brand_table[\"Gender\"] = brand_table.Brands.map(test.groupby(['Brand'])['Gender'].apply(lambda x: ','.join(list(set(x)))))"
      ],
      "execution_count": 0,
      "outputs": []
    },
    {
      "cell_type": "code",
      "metadata": {
        "id": "5dd0cM3jKQgB",
        "colab_type": "code",
        "colab": {}
      },
      "source": [
        "test = products[[\"Brand\",\"Category\"]].astype(str)\n",
        "brand_table[\"Category\"] = brand_table.Brands.map(test.groupby(['Brand'])['Category'].apply(lambda x: ','.join(list(set(x)))))"
      ],
      "execution_count": 0,
      "outputs": []
    },
    {
      "cell_type": "code",
      "metadata": {
        "id": "sUQidJqQML4L",
        "colab_type": "code",
        "colab": {}
      },
      "source": [
        "join = order.join(products[[\"Brand\",\"ProductID\"]].set_index('ProductID'),how=\"left\",on=\"ProductId\")"
      ],
      "execution_count": 0,
      "outputs": []
    },
    {
      "cell_type": "code",
      "metadata": {
        "id": "6BvpztizNcC6",
        "colab_type": "code",
        "colab": {}
      },
      "source": [
        "join.groupby(['Brand'])['Quantity'].sum()\n",
        "brand_table[\"Quantity Ordered\"] = brand_table.Brands.map(join.groupby(['Brand'])['Quantity'].sum())\n",
        "brand_table[\"Quantity Ordered\"] = brand_table[\"Quantity Ordered\"].fillna(0)"
      ],
      "execution_count": 0,
      "outputs": []
    },
    {
      "cell_type": "code",
      "metadata": {
        "id": "bSANpe9Y7-nw",
        "colab_type": "code",
        "outputId": "1ca92dd8-2788-4f23-f6a0-235751bc75c0",
        "colab": {
          "base_uri": "https://localhost:8080/",
          "height": 360
        }
      },
      "source": [
        "brand_table.head()"
      ],
      "execution_count": 0,
      "outputs": [
        {
          "output_type": "execute_result",
          "data": {
            "text/html": [
              "<div>\n",
              "<style scoped>\n",
              "    .dataframe tbody tr th:only-of-type {\n",
              "        vertical-align: middle;\n",
              "    }\n",
              "\n",
              "    .dataframe tbody tr th {\n",
              "        vertical-align: top;\n",
              "    }\n",
              "\n",
              "    .dataframe thead th {\n",
              "        text-align: right;\n",
              "    }\n",
              "</style>\n",
              "<table border=\"1\" class=\"dataframe\">\n",
              "  <thead>\n",
              "    <tr style=\"text-align: right;\">\n",
              "      <th></th>\n",
              "      <th>Brands</th>\n",
              "      <th>Number of products</th>\n",
              "      <th>Colour</th>\n",
              "      <th>Family</th>\n",
              "      <th>Season</th>\n",
              "      <th>Department</th>\n",
              "      <th>Gender</th>\n",
              "      <th>Category</th>\n",
              "      <th>Quantity Ordered</th>\n",
              "    </tr>\n",
              "  </thead>\n",
              "  <tbody>\n",
              "    <tr>\n",
              "      <th>0</th>\n",
              "      <td>ÁGUA DE COCO</td>\n",
              "      <td>15</td>\n",
              "      <td>BLUE,YELLOW &amp; ORANGE,GREEN,RED</td>\n",
              "      <td>Bags,Clothing</td>\n",
              "      <td>SS14</td>\n",
              "      <td>Lab</td>\n",
              "      <td>WOMEN</td>\n",
              "      <td>Skirts,Tops,Shoulder Bags,Shorts,Beachwear,Dre...</td>\n",
              "      <td>1.0</td>\n",
              "    </tr>\n",
              "    <tr>\n",
              "      <th>1</th>\n",
              "      <td>MARIES ROBE DE NUIT</td>\n",
              "      <td>20</td>\n",
              "      <td>GREEN,N/D,YELLOW &amp; ORANGE,BLACK,BLUE,GREY,WHITE</td>\n",
              "      <td>Clothing</td>\n",
              "      <td>AW14,AW13,SS14</td>\n",
              "      <td>Lab</td>\n",
              "      <td>WOMEN</td>\n",
              "      <td>Tops,Lingerie &amp; Hosiery,Dresses</td>\n",
              "      <td>0.0</td>\n",
              "    </tr>\n",
              "    <tr>\n",
              "      <th>2</th>\n",
              "      <td>LANVIN</td>\n",
              "      <td>2925</td>\n",
              "      <td>WHITE,GREEN,METALLIC,PINK &amp; PURPLE,N/D,YELLOW ...</td>\n",
              "      <td>Vintage &amp; Archive,Lifestyle,Bags,Accessories,C...</td>\n",
              "      <td>SS13,AW12,AW13,VINTAGE,AW10,ARCHIVE,AW14,AW11,...</td>\n",
              "      <td>Luxe</td>\n",
              "      <td>WOMEN,MEN,UNISEX</td>\n",
              "      <td>Deck Shoes,Make Up Bag,Lingerie &amp; Hosiery,Cuff...</td>\n",
              "      <td>154.0</td>\n",
              "    </tr>\n",
              "    <tr>\n",
              "      <th>3</th>\n",
              "      <td>WOOLRICH</td>\n",
              "      <td>242</td>\n",
              "      <td>WHITE,GREEN,PINK &amp; PURPLE,YELLOW &amp; ORANGE,MULT...</td>\n",
              "      <td>Bags,Lifestyle,Clothing,Accessories</td>\n",
              "      <td>SS13,AW13,AW14,AW11,CARRYOVER,SS11,SS12,SS15,S...</td>\n",
              "      <td>Lab</td>\n",
              "      <td>UNISEX,MEN,WOMEN</td>\n",
              "      <td>Totes,Skirts,Jackets,Tops,Trousers,Luggage &amp; H...</td>\n",
              "      <td>3.0</td>\n",
              "    </tr>\n",
              "    <tr>\n",
              "      <th>4</th>\n",
              "      <td>MELINDA GLOSS</td>\n",
              "      <td>56</td>\n",
              "      <td>WHITE,GREEN,MULTICOLOUR,BLACK,BLUE,GREY,BROWN,...</td>\n",
              "      <td>Shoes,Clothing,Accessories</td>\n",
              "      <td>SS13,AW13,AW11,SS11,SS12,SS15,SS14,AW12</td>\n",
              "      <td>Lab</td>\n",
              "      <td>MEN,UNISEX</td>\n",
              "      <td>Trainers,Jackets,Tops,Trousers,Gloves,Scarves,...</td>\n",
              "      <td>2.0</td>\n",
              "    </tr>\n",
              "  </tbody>\n",
              "</table>\n",
              "</div>"
            ],
            "text/plain": [
              "                Brands  Number of products  \\\n",
              "0         ÁGUA DE COCO                  15   \n",
              "1  MARIES ROBE DE NUIT                  20   \n",
              "2               LANVIN                2925   \n",
              "3             WOOLRICH                 242   \n",
              "4        MELINDA GLOSS                  56   \n",
              "\n",
              "                                              Colour  \\\n",
              "0                     BLUE,YELLOW & ORANGE,GREEN,RED   \n",
              "1    GREEN,N/D,YELLOW & ORANGE,BLACK,BLUE,GREY,WHITE   \n",
              "2  WHITE,GREEN,METALLIC,PINK & PURPLE,N/D,YELLOW ...   \n",
              "3  WHITE,GREEN,PINK & PURPLE,YELLOW & ORANGE,MULT...   \n",
              "4  WHITE,GREEN,MULTICOLOUR,BLACK,BLUE,GREY,BROWN,...   \n",
              "\n",
              "                                              Family  \\\n",
              "0                                      Bags,Clothing   \n",
              "1                                           Clothing   \n",
              "2  Vintage & Archive,Lifestyle,Bags,Accessories,C...   \n",
              "3                Bags,Lifestyle,Clothing,Accessories   \n",
              "4                         Shoes,Clothing,Accessories   \n",
              "\n",
              "                                              Season Department  \\\n",
              "0                                               SS14        Lab   \n",
              "1                                     AW14,AW13,SS14        Lab   \n",
              "2  SS13,AW12,AW13,VINTAGE,AW10,ARCHIVE,AW14,AW11,...       Luxe   \n",
              "3  SS13,AW13,AW14,AW11,CARRYOVER,SS11,SS12,SS15,S...        Lab   \n",
              "4            SS13,AW13,AW11,SS11,SS12,SS15,SS14,AW12        Lab   \n",
              "\n",
              "             Gender                                           Category  \\\n",
              "0             WOMEN  Skirts,Tops,Shoulder Bags,Shorts,Beachwear,Dre...   \n",
              "1             WOMEN                    Tops,Lingerie & Hosiery,Dresses   \n",
              "2  WOMEN,MEN,UNISEX  Deck Shoes,Make Up Bag,Lingerie & Hosiery,Cuff...   \n",
              "3  UNISEX,MEN,WOMEN  Totes,Skirts,Jackets,Tops,Trousers,Luggage & H...   \n",
              "4        MEN,UNISEX  Trainers,Jackets,Tops,Trousers,Gloves,Scarves,...   \n",
              "\n",
              "   Quantity Ordered  \n",
              "0               1.0  \n",
              "1               0.0  \n",
              "2             154.0  \n",
              "3               3.0  \n",
              "4               2.0  "
            ]
          },
          "metadata": {
            "tags": []
          },
          "execution_count": 142
        }
      ]
    },
    {
      "cell_type": "code",
      "metadata": {
        "id": "38QwGpUF8AIw",
        "colab_type": "code",
        "colab": {}
      },
      "source": [
        "import pickle\n",
        "\n",
        "pickle.dump(brand_table, open('/content/gdrive/My Drive/Interview/Reco/Brand_table.pkl','wb'))"
      ],
      "execution_count": 0,
      "outputs": []
    },
    {
      "cell_type": "code",
      "metadata": {
        "id": "k6cRwX6HQVP2",
        "colab_type": "code",
        "colab": {}
      },
      "source": [
        "import pickle\n",
        "\n",
        "brand_table = pickle.load(open('/content/gdrive/My Drive/Interview/Reco/Brand_table.pkl','rb'))"
      ],
      "execution_count": 0,
      "outputs": []
    },
    {
      "cell_type": "markdown",
      "metadata": {
        "id": "TcvAnnULwRYT",
        "colab_type": "text"
      },
      "source": [
        "<h2> Creation of a User Table </h2>"
      ]
    },
    {
      "cell_type": "code",
      "metadata": {
        "id": "r4k9cuttwZW9",
        "colab_type": "code",
        "colab": {}
      },
      "source": [
        "user_table = users[[\"UserID\",\"HasUsedWishlist\"]]"
      ],
      "execution_count": 0,
      "outputs": []
    },
    {
      "cell_type": "code",
      "metadata": {
        "id": "nqqS_kZbxWjf",
        "colab_type": "code",
        "colab": {}
      },
      "source": [
        "user_table[\"Nb_orders\"] = user_table.UserID.map(order.UserID.value_counts())\n",
        "user_table[\"Nb_orders\"] = user_table[\"Nb_orders\"].fillna(0)"
      ],
      "execution_count": 0,
      "outputs": []
    },
    {
      "cell_type": "code",
      "metadata": {
        "id": "tEnFgXByyzjK",
        "colab_type": "code",
        "colab": {}
      },
      "source": [
        "join = order.join(products[[\"Brand\",\"ProductID\"]].set_index('ProductID'),how=\"left\",on=\"ProductId\")\n",
        "join[\"Brand\"] = join[\"Brand\"].astype(str)"
      ],
      "execution_count": 0,
      "outputs": []
    },
    {
      "cell_type": "code",
      "metadata": {
        "id": "vfAa8shvy9Kc",
        "colab_type": "code",
        "colab": {}
      },
      "source": [
        "user_table[\"Brand_Ordered\"] = user_table.UserID.map(join.groupby(['UserID'])['Brand'].apply(lambda x: ','.join(list(set(x)))))\n",
        "user_table[\"Brand_Ordered\"] = user_table[\"Brand_Ordered\"].fillna(\"\")"
      ],
      "execution_count": 0,
      "outputs": []
    },
    {
      "cell_type": "code",
      "metadata": {
        "id": "cIPa31Ns07cy",
        "colab_type": "code",
        "colab": {}
      },
      "source": [
        "join = prod_stream.join(products[[\"Brand\",\"ProductID\"]].set_index('ProductID'),how=\"left\",on=\"ProductID\")\n",
        "join[\"Brand\"] = join[\"Brand\"].astype(str)"
      ],
      "execution_count": 0,
      "outputs": []
    },
    {
      "cell_type": "code",
      "metadata": {
        "id": "8S9xL6Pf1S9b",
        "colab_type": "code",
        "colab": {}
      },
      "source": [
        "user_table[\"Brand_Visited\"] = user_table.UserID.map(join.groupby(['UserIDIdentified'])['Brand'].apply(lambda x: ','.join(list(set(x)))))\n",
        "user_table[\"Brand_Visited\"] = user_table[\"Brand_Visited\"].fillna(\"\")"
      ],
      "execution_count": 0,
      "outputs": []
    },
    {
      "cell_type": "code",
      "metadata": {
        "id": "Kwc8NtJl17fj",
        "colab_type": "code",
        "colab": {}
      },
      "source": [
        "join = action_positive[action_positive.UserAction==\"Add to Bag\"].join(products[[\"Brand\",\"ProductID\"]].set_index('ProductID'),how=\"left\",on=\"ProductID\")\n",
        "join[\"Brand\"] = join[\"Brand\"].astype(str)"
      ],
      "execution_count": 0,
      "outputs": []
    },
    {
      "cell_type": "code",
      "metadata": {
        "id": "dYIAljk2wyzA",
        "colab_type": "code",
        "colab": {}
      },
      "source": [
        "user_table[\"Brand_Bag\"] = user_table.UserID.map(join.groupby(['UserIDIdentified'])['Brand'].apply(lambda x: ','.join(list(set(x)))))\n",
        "user_table[\"Brand_Bag\"] = user_table[\"Brand_Bag\"].fillna(\"\")"
      ],
      "execution_count": 0,
      "outputs": []
    },
    {
      "cell_type": "code",
      "metadata": {
        "id": "xA0Ckan1w23x",
        "colab_type": "code",
        "colab": {}
      },
      "source": [
        "join = action_positive[action_positive.UserAction==\"Save\"].join(products[[\"Brand\",\"ProductID\"]].set_index('ProductID'),how=\"left\",on=\"ProductID\")\n",
        "join[\"Brand\"] = join[\"Brand\"].astype(str)"
      ],
      "execution_count": 0,
      "outputs": []
    },
    {
      "cell_type": "code",
      "metadata": {
        "id": "4CJxA72h2sqi",
        "colab_type": "code",
        "colab": {}
      },
      "source": [
        "user_table[\"Brand_Saved\"] = user_table.UserID.map(join.groupby(['UserIDIdentified'])['Brand'].apply(lambda x: ','.join(list(set(x)))))\n",
        "user_table[\"Brand_Saved\"] = user_table[\"Brand_Saved\"].fillna(\"\")"
      ],
      "execution_count": 0,
      "outputs": []
    },
    {
      "cell_type": "code",
      "metadata": {
        "id": "c5wCGFjR4CUg",
        "colab_type": "code",
        "colab": {}
      },
      "source": [
        "join = negative_action[negative_action.UserAction==\"Unsave\"].join(products[[\"Brand\",\"ProductID\"]].set_index('ProductID'),how=\"left\",on=\"ProductID\")\n",
        "join[\"Brand\"] = join[\"Brand\"].astype(str)"
      ],
      "execution_count": 0,
      "outputs": []
    },
    {
      "cell_type": "code",
      "metadata": {
        "id": "Ps0P8Tng4QVI",
        "colab_type": "code",
        "colab": {}
      },
      "source": [
        "user_table[\"Unsave\"] = user_table.UserID.map(join.groupby(['UserIDIdentified'])['Brand'].apply(lambda x: ','.join(list(set(x)))))\n",
        "user_table[\"Unsave\"] = user_table[\"Unsave\"].fillna(\"\")"
      ],
      "execution_count": 0,
      "outputs": []
    },
    {
      "cell_type": "code",
      "metadata": {
        "id": "ZL35Jgqa5epa",
        "colab_type": "code",
        "colab": {}
      },
      "source": [
        "join = negative_action[negative_action.UserAction==\"Remove from bag\"].join(products[[\"Brand\",\"ProductID\"]].set_index('ProductID'),how=\"left\",on=\"ProductID\")\n",
        "join[\"Brand\"] = join[\"Brand\"].astype(str)"
      ],
      "execution_count": 0,
      "outputs": []
    },
    {
      "cell_type": "code",
      "metadata": {
        "id": "8vG04Mf05xRL",
        "colab_type": "code",
        "colab": {}
      },
      "source": [
        "user_table[\"Dropped\"] = user_table.UserID.map(join.groupby(['UserIDIdentified'])['Brand'].apply(lambda x: ','.join(list(set(x)))))\n",
        "user_table[\"Dropped\"] = user_table[\"Dropped\"].fillna(\"\")"
      ],
      "execution_count": 0,
      "outputs": []
    },
    {
      "cell_type": "code",
      "metadata": {
        "id": "qUyLuwD16nPN",
        "colab_type": "code",
        "colab": {}
      },
      "source": [
        "user_table[\"Interest_Brand\"] = user_table[\"Brand_Ordered\"] .map(str) + ',' + user_table[\"Brand_Visited\"].map(str) + ',' + user_table[\"Brand_Bag\"].map(str) + ',' + user_table[\"Brand_Saved\"].map(str)\n",
        "        \n",
        "#user_table[\"Interest_Brand\"] = user_table[\"Interest_Brand\"].apply(lambda x: ','.join(pd.unique(x.split())))"
      ],
      "execution_count": 0,
      "outputs": []
    },
    {
      "cell_type": "code",
      "metadata": {
        "id": "-A5WODOP8dS8",
        "colab_type": "code",
        "colab": {}
      },
      "source": [
        "def dedup(value):\n",
        "    words = set(value.split(','))\n",
        "    return ','.join(words)"
      ],
      "execution_count": 0,
      "outputs": []
    },
    {
      "cell_type": "code",
      "metadata": {
        "id": "EqI7itjg8jPO",
        "colab_type": "code",
        "colab": {}
      },
      "source": [
        "user_table[\"Interest_Brand\"] = user_table.Interest_Brand.apply(dedup)"
      ],
      "execution_count": 0,
      "outputs": []
    },
    {
      "cell_type": "code",
      "metadata": {
        "id": "MAizODcm82Rb",
        "colab_type": "code",
        "colab": {}
      },
      "source": [
        "user_table[\"Low_interest\"] = user_table[\"Unsave\"] .map(str) + ',' + user_table[\"Dropped\"].map(str)\n",
        "        \n",
        "#user_table[\"Low_interest\"] = user_table[\"Low_interest\"].apply(lambda x: ','.join(pd.unique(x.split())))\n",
        "\n",
        "user_table[\"Low_interest\"] = user_table.Low_interest.apply(dedup)"
      ],
      "execution_count": 0,
      "outputs": []
    },
    {
      "cell_type": "code",
      "metadata": {
        "id": "YJRLhvmaCepv",
        "colab_type": "code",
        "colab": {}
      },
      "source": [
        "final_user_table = user_table[[\"UserID\",\"HasUsedWishlist\",\"Interest_Brand\",\"Low_interest\"]]"
      ],
      "execution_count": 0,
      "outputs": []
    },
    {
      "cell_type": "code",
      "metadata": {
        "id": "R2u7MycF-AMD",
        "colab_type": "code",
        "colab": {}
      },
      "source": [
        "import pickle\n",
        "\n",
        "pickle.dump(final_user_table, open('/content/gdrive/My Drive/Interview/Reco/user_table.pkl','wb'))"
      ],
      "execution_count": 0,
      "outputs": []
    },
    {
      "cell_type": "code",
      "metadata": {
        "id": "Itw2X61m-bFb",
        "colab_type": "code",
        "colab": {}
      },
      "source": [
        "import pickle\n",
        "\n",
        "user_table = pickle.load(open('/content/gdrive/My Drive/Interview/Reco/user_table.pkl','rb'))"
      ],
      "execution_count": 0,
      "outputs": []
    },
    {
      "cell_type": "code",
      "metadata": {
        "id": "2aFjPh-n-izs",
        "colab_type": "code",
        "outputId": "f36f8222-7a44-465d-8654-666c01c1013e",
        "colab": {
          "base_uri": "https://localhost:8080/",
          "height": 204
        }
      },
      "source": [
        "final_user_table.head()"
      ],
      "execution_count": 0,
      "outputs": [
        {
          "output_type": "execute_result",
          "data": {
            "text/html": [
              "<div>\n",
              "<style scoped>\n",
              "    .dataframe tbody tr th:only-of-type {\n",
              "        vertical-align: middle;\n",
              "    }\n",
              "\n",
              "    .dataframe tbody tr th {\n",
              "        vertical-align: top;\n",
              "    }\n",
              "\n",
              "    .dataframe thead th {\n",
              "        text-align: right;\n",
              "    }\n",
              "</style>\n",
              "<table border=\"1\" class=\"dataframe\">\n",
              "  <thead>\n",
              "    <tr style=\"text-align: right;\">\n",
              "      <th></th>\n",
              "      <th>UserID</th>\n",
              "      <th>HasUsedWishlist</th>\n",
              "      <th>Interest_Brand</th>\n",
              "      <th>Low_interest</th>\n",
              "    </tr>\n",
              "  </thead>\n",
              "  <tbody>\n",
              "    <tr>\n",
              "      <th>0</th>\n",
              "      <td>0x0D3056570A0D90872B31C6F414DF021D</td>\n",
              "      <td>Yes</td>\n",
              "      <td>,SAM EDELMAN,TOD'S,DOLCE &amp; GABBANA,JIMMY CHOO,...</td>\n",
              "      <td></td>\n",
              "    </tr>\n",
              "    <tr>\n",
              "      <th>1</th>\n",
              "      <td>0x96D2E60551F80B7AE46EE722C30221B0</td>\n",
              "      <td>No</td>\n",
              "      <td>,GIVENCHY</td>\n",
              "      <td></td>\n",
              "    </tr>\n",
              "    <tr>\n",
              "      <th>2</th>\n",
              "      <td>0x69093F1011A2BD322D8A87009A8494AC</td>\n",
              "      <td>No</td>\n",
              "      <td>GIANVITO ROSSI,</td>\n",
              "      <td></td>\n",
              "    </tr>\n",
              "    <tr>\n",
              "      <th>3</th>\n",
              "      <td>0xA841752499FF55CFF73856B1847EE978</td>\n",
              "      <td>Yes</td>\n",
              "      <td>,DOLCE &amp; GABBANA</td>\n",
              "      <td></td>\n",
              "    </tr>\n",
              "    <tr>\n",
              "      <th>4</th>\n",
              "      <td>0x2D3A37B5AFF04368D1ABD1F3E8465426</td>\n",
              "      <td>No</td>\n",
              "      <td>,BALENCIAGA,GOLDEN GOOSE DELUXE BRAND</td>\n",
              "      <td></td>\n",
              "    </tr>\n",
              "  </tbody>\n",
              "</table>\n",
              "</div>"
            ],
            "text/plain": [
              "                               UserID HasUsedWishlist  \\\n",
              "0  0x0D3056570A0D90872B31C6F414DF021D             Yes   \n",
              "1  0x96D2E60551F80B7AE46EE722C30221B0              No   \n",
              "2  0x69093F1011A2BD322D8A87009A8494AC              No   \n",
              "3  0xA841752499FF55CFF73856B1847EE978             Yes   \n",
              "4  0x2D3A37B5AFF04368D1ABD1F3E8465426              No   \n",
              "\n",
              "                                      Interest_Brand Low_interest  \n",
              "0  ,SAM EDELMAN,TOD'S,DOLCE & GABBANA,JIMMY CHOO,...               \n",
              "1                                          ,GIVENCHY               \n",
              "2                                    GIANVITO ROSSI,               \n",
              "3                                   ,DOLCE & GABBANA               \n",
              "4              ,BALENCIAGA,GOLDEN GOOSE DELUXE BRAND               "
            ]
          },
          "metadata": {
            "tags": []
          },
          "execution_count": 141
        }
      ]
    },
    {
      "cell_type": "markdown",
      "metadata": {
        "id": "mZ1pajIyRnHS",
        "colab_type": "text"
      },
      "source": [
        "<h2> Preprocessing before model </h2>"
      ]
    },
    {
      "cell_type": "code",
      "metadata": {
        "id": "RgVT8GLMTq4d",
        "colab_type": "code",
        "colab": {}
      },
      "source": [
        "brand_table=brand_table.dropna()"
      ],
      "execution_count": 0,
      "outputs": []
    },
    {
      "cell_type": "code",
      "metadata": {
        "id": "8Pzixa4gh7_u",
        "colab_type": "code",
        "outputId": "aec7d9f3-f277-49b3-cb10-6878dacfa65f",
        "colab": {
          "base_uri": "https://localhost:8080/",
          "height": 34
        }
      },
      "source": [
        "brand_table.shape"
      ],
      "execution_count": 0,
      "outputs": [
        {
          "output_type": "execute_result",
          "data": {
            "text/plain": [
              "(4705, 9)"
            ]
          },
          "metadata": {
            "tags": []
          },
          "execution_count": 7
        }
      ]
    },
    {
      "cell_type": "code",
      "metadata": {
        "id": "kJhUGCr5QXmT",
        "colab_type": "code",
        "outputId": "3772284f-4362-47ba-814c-3e5932226fab",
        "colab": {
          "base_uri": "https://localhost:8080/",
          "height": 360
        }
      },
      "source": [
        "brand_table.head(5)"
      ],
      "execution_count": 0,
      "outputs": [
        {
          "output_type": "execute_result",
          "data": {
            "text/html": [
              "<div>\n",
              "<style scoped>\n",
              "    .dataframe tbody tr th:only-of-type {\n",
              "        vertical-align: middle;\n",
              "    }\n",
              "\n",
              "    .dataframe tbody tr th {\n",
              "        vertical-align: top;\n",
              "    }\n",
              "\n",
              "    .dataframe thead th {\n",
              "        text-align: right;\n",
              "    }\n",
              "</style>\n",
              "<table border=\"1\" class=\"dataframe\">\n",
              "  <thead>\n",
              "    <tr style=\"text-align: right;\">\n",
              "      <th></th>\n",
              "      <th>Brands</th>\n",
              "      <th>Number of products</th>\n",
              "      <th>Colour</th>\n",
              "      <th>Family</th>\n",
              "      <th>Season</th>\n",
              "      <th>Department</th>\n",
              "      <th>Gender</th>\n",
              "      <th>Category</th>\n",
              "      <th>Quantity Ordered</th>\n",
              "    </tr>\n",
              "  </thead>\n",
              "  <tbody>\n",
              "    <tr>\n",
              "      <th>0</th>\n",
              "      <td>ÁGUA DE COCO</td>\n",
              "      <td>15</td>\n",
              "      <td>BLUE,YELLOW &amp; ORANGE,GREEN,RED</td>\n",
              "      <td>Bags,Clothing</td>\n",
              "      <td>SS14</td>\n",
              "      <td>Lab</td>\n",
              "      <td>WOMEN</td>\n",
              "      <td>Skirts,Tops,Shoulder Bags,Shorts,Beachwear,Dre...</td>\n",
              "      <td>1.0</td>\n",
              "    </tr>\n",
              "    <tr>\n",
              "      <th>1</th>\n",
              "      <td>MARIES ROBE DE NUIT</td>\n",
              "      <td>20</td>\n",
              "      <td>GREEN,N/D,YELLOW &amp; ORANGE,BLACK,BLUE,GREY,WHITE</td>\n",
              "      <td>Clothing</td>\n",
              "      <td>AW14,AW13,SS14</td>\n",
              "      <td>Lab</td>\n",
              "      <td>WOMEN</td>\n",
              "      <td>Tops,Lingerie &amp; Hosiery,Dresses</td>\n",
              "      <td>0.0</td>\n",
              "    </tr>\n",
              "    <tr>\n",
              "      <th>2</th>\n",
              "      <td>LANVIN</td>\n",
              "      <td>2925</td>\n",
              "      <td>WHITE,GREEN,METALLIC,PINK &amp; PURPLE,N/D,YELLOW ...</td>\n",
              "      <td>Vintage &amp; Archive,Lifestyle,Bags,Accessories,C...</td>\n",
              "      <td>SS13,AW12,AW13,VINTAGE,AW10,ARCHIVE,AW14,AW11,...</td>\n",
              "      <td>Luxe</td>\n",
              "      <td>WOMEN,MEN,UNISEX</td>\n",
              "      <td>Deck Shoes,Make Up Bag,Lingerie &amp; Hosiery,Cuff...</td>\n",
              "      <td>154.0</td>\n",
              "    </tr>\n",
              "    <tr>\n",
              "      <th>3</th>\n",
              "      <td>WOOLRICH</td>\n",
              "      <td>242</td>\n",
              "      <td>WHITE,GREEN,PINK &amp; PURPLE,YELLOW &amp; ORANGE,MULT...</td>\n",
              "      <td>Bags,Lifestyle,Clothing,Accessories</td>\n",
              "      <td>SS13,AW13,AW14,AW11,CARRYOVER,SS11,SS12,SS15,S...</td>\n",
              "      <td>Lab</td>\n",
              "      <td>UNISEX,MEN,WOMEN</td>\n",
              "      <td>Totes,Skirts,Jackets,Tops,Trousers,Luggage &amp; H...</td>\n",
              "      <td>3.0</td>\n",
              "    </tr>\n",
              "    <tr>\n",
              "      <th>4</th>\n",
              "      <td>MELINDA GLOSS</td>\n",
              "      <td>56</td>\n",
              "      <td>WHITE,GREEN,MULTICOLOUR,BLACK,BLUE,GREY,BROWN,...</td>\n",
              "      <td>Shoes,Clothing,Accessories</td>\n",
              "      <td>SS13,AW13,AW11,SS11,SS12,SS15,SS14,AW12</td>\n",
              "      <td>Lab</td>\n",
              "      <td>MEN,UNISEX</td>\n",
              "      <td>Trainers,Jackets,Tops,Trousers,Gloves,Scarves,...</td>\n",
              "      <td>2.0</td>\n",
              "    </tr>\n",
              "  </tbody>\n",
              "</table>\n",
              "</div>"
            ],
            "text/plain": [
              "                Brands  Number of products  \\\n",
              "0         ÁGUA DE COCO                  15   \n",
              "1  MARIES ROBE DE NUIT                  20   \n",
              "2               LANVIN                2925   \n",
              "3             WOOLRICH                 242   \n",
              "4        MELINDA GLOSS                  56   \n",
              "\n",
              "                                              Colour  \\\n",
              "0                     BLUE,YELLOW & ORANGE,GREEN,RED   \n",
              "1    GREEN,N/D,YELLOW & ORANGE,BLACK,BLUE,GREY,WHITE   \n",
              "2  WHITE,GREEN,METALLIC,PINK & PURPLE,N/D,YELLOW ...   \n",
              "3  WHITE,GREEN,PINK & PURPLE,YELLOW & ORANGE,MULT...   \n",
              "4  WHITE,GREEN,MULTICOLOUR,BLACK,BLUE,GREY,BROWN,...   \n",
              "\n",
              "                                              Family  \\\n",
              "0                                      Bags,Clothing   \n",
              "1                                           Clothing   \n",
              "2  Vintage & Archive,Lifestyle,Bags,Accessories,C...   \n",
              "3                Bags,Lifestyle,Clothing,Accessories   \n",
              "4                         Shoes,Clothing,Accessories   \n",
              "\n",
              "                                              Season Department  \\\n",
              "0                                               SS14        Lab   \n",
              "1                                     AW14,AW13,SS14        Lab   \n",
              "2  SS13,AW12,AW13,VINTAGE,AW10,ARCHIVE,AW14,AW11,...       Luxe   \n",
              "3  SS13,AW13,AW14,AW11,CARRYOVER,SS11,SS12,SS15,S...        Lab   \n",
              "4            SS13,AW13,AW11,SS11,SS12,SS15,SS14,AW12        Lab   \n",
              "\n",
              "             Gender                                           Category  \\\n",
              "0             WOMEN  Skirts,Tops,Shoulder Bags,Shorts,Beachwear,Dre...   \n",
              "1             WOMEN                    Tops,Lingerie & Hosiery,Dresses   \n",
              "2  WOMEN,MEN,UNISEX  Deck Shoes,Make Up Bag,Lingerie & Hosiery,Cuff...   \n",
              "3  UNISEX,MEN,WOMEN  Totes,Skirts,Jackets,Tops,Trousers,Luggage & H...   \n",
              "4        MEN,UNISEX  Trainers,Jackets,Tops,Trousers,Gloves,Scarves,...   \n",
              "\n",
              "   Quantity Ordered  \n",
              "0               1.0  \n",
              "1               0.0  \n",
              "2             154.0  \n",
              "3               3.0  \n",
              "4               2.0  "
            ]
          },
          "metadata": {
            "tags": []
          },
          "execution_count": 189
        }
      ]
    },
    {
      "cell_type": "markdown",
      "metadata": {
        "id": "t9QnUB98YTOI",
        "colab_type": "text"
      },
      "source": [
        "<h3> Scaling and hot encoding </h3>"
      ]
    },
    {
      "cell_type": "code",
      "metadata": {
        "id": "d4QpKfyHR4lK",
        "colab_type": "code",
        "colab": {}
      },
      "source": [
        "num_column = [\"Number of products\",\"Quantity Ordered\"]"
      ],
      "execution_count": 0,
      "outputs": []
    },
    {
      "cell_type": "code",
      "metadata": {
        "id": "271kg3-CpbYs",
        "colab_type": "code",
        "colab": {}
      },
      "source": [
        "colour_d = brand_table['Colour'].str.get_dummies(sep=',')\n",
        "family_d = brand_table['Family'].str.get_dummies(sep=',')\n",
        "season_d = brand_table['Season'].str.get_dummies(sep=',')\n",
        "depar_d = brand_table['Department'].str.get_dummies(sep=',')\n",
        "gender_d = brand_table['Gender'].str.get_dummies(sep=',')\n",
        "categ_d = brand_table['Category'].str.get_dummies(sep=',')"
      ],
      "execution_count": 0,
      "outputs": []
    },
    {
      "cell_type": "code",
      "metadata": {
        "id": "UwbNbirhqA4S",
        "colab_type": "code",
        "colab": {}
      },
      "source": [
        "categDF_encoded = np.hstack((colour_d.values,family_d.values,season_d.values,depar_d.values,gender_d.values,categ_d.values))"
      ],
      "execution_count": 0,
      "outputs": []
    },
    {
      "cell_type": "code",
      "metadata": {
        "id": "_jLPbah0WcOp",
        "colab_type": "code",
        "colab": {}
      },
      "source": [
        "from sklearn.preprocessing import StandardScaler\n",
        "\n",
        "scaler = StandardScaler()\n",
        "num_column = scaler.fit_transform(brand_table[num_column].values)"
      ],
      "execution_count": 0,
      "outputs": []
    },
    {
      "cell_type": "code",
      "metadata": {
        "id": "5eUgsyh-XUyL",
        "colab_type": "code",
        "colab": {}
      },
      "source": [
        "X = np.hstack((num_column,categDF_encoded))"
      ],
      "execution_count": 0,
      "outputs": []
    },
    {
      "cell_type": "markdown",
      "metadata": {
        "id": "8cKr21hMYWNj",
        "colab_type": "text"
      },
      "source": [
        "<h3> Dimensional reduction </h3>"
      ]
    },
    {
      "cell_type": "code",
      "metadata": {
        "id": "WENsPNMXXk0N",
        "colab_type": "code",
        "colab": {}
      },
      "source": [
        "from sklearn.decomposition import PCA"
      ],
      "execution_count": 0,
      "outputs": []
    },
    {
      "cell_type": "code",
      "metadata": {
        "id": "3sPDKCIQX4du",
        "colab_type": "code",
        "outputId": "8f1d4248-0dad-4db2-d6ce-39dfd3f33844",
        "colab": {
          "base_uri": "https://localhost:8080/",
          "height": 295
        }
      },
      "source": [
        "#Fitting the PCA algorithm with our Data\n",
        "pca = PCA().fit(X)\n",
        "\n",
        "#Plotting the Cumulative Summation of the Explained Variance\n",
        "plt.figure()\n",
        "plt.plot(np.cumsum(pca.explained_variance_ratio_))\n",
        "plt.xlabel('Number of Components')\n",
        "plt.ylabel('Variance Explained (%)') #for each component\n",
        "plt.title('Pulsar Dataset Explained Variance')\n",
        "plt.show()"
      ],
      "execution_count": 0,
      "outputs": [
        {
          "output_type": "display_data",
          "data": {
            "image/png": "[encoded data removed]",
            "text/plain": [
              "<Figure size 432x288 with 1 Axes>"
            ]
          },
          "metadata": {
            "tags": []
          }
        }
      ]
    },
    {
      "cell_type": "code",
      "metadata": {
        "id": "bfVooybuYLgi",
        "colab_type": "code",
        "outputId": "8e2c6e13-4a93-46f6-9f1b-373bca847858",
        "colab": {
          "base_uri": "https://localhost:8080/",
          "height": 51
        }
      },
      "source": [
        "from sklearn import decomposition\n",
        "\n",
        "pca = decomposition.PCA(n_components=60)\n",
        "pca.fit(X)"
      ],
      "execution_count": 0,
      "outputs": [
        {
          "output_type": "execute_result",
          "data": {
            "text/plain": [
              "PCA(copy=True, iterated_power='auto', n_components=60, random_state=None,\n",
              "    svd_solver='auto', tol=0.0, whiten=False)"
            ]
          },
          "metadata": {
            "tags": []
          },
          "execution_count": 14
        }
      ]
    },
    {
      "cell_type": "code",
      "metadata": {
        "id": "wHCZLglpY3Dr",
        "colab_type": "code",
        "outputId": "67392c5a-1546-4492-935b-730a874b6259",
        "colab": {
          "base_uri": "https://localhost:8080/",
          "height": 34
        }
      },
      "source": [
        "print (pca.explained_variance_ratio_.sum())"
      ],
      "execution_count": 0,
      "outputs": [
        {
          "output_type": "stream",
          "text": [
            "0.9257596495467124\n"
          ],
          "name": "stdout"
        }
      ]
    },
    {
      "cell_type": "code",
      "metadata": {
        "id": "aE5yBew0Y89n",
        "colab_type": "code",
        "colab": {}
      },
      "source": [
        "X_projected = pca.transform(X)"
      ],
      "execution_count": 0,
      "outputs": []
    },
    {
      "cell_type": "markdown",
      "metadata": {
        "id": "4JaTzqOkZSa-",
        "colab_type": "text"
      },
      "source": [
        "<h3> Brand modelisation </h3>"
      ]
    },
    {
      "cell_type": "code",
      "metadata": {
        "id": "IQligOgGZRjZ",
        "colab_type": "code",
        "colab": {}
      },
      "source": [
        "from sklearn.neighbors import NearestNeighbors"
      ],
      "execution_count": 0,
      "outputs": []
    },
    {
      "cell_type": "code",
      "metadata": {
        "id": "MEE8PEP1ZlSI",
        "colab_type": "code",
        "outputId": "de5178ac-0b6b-460b-d03f-170a16684dd5",
        "colab": {
          "base_uri": "https://localhost:8080/",
          "height": 68
        }
      },
      "source": [
        "knn = NearestNeighbors(n_neighbors=6,p=2,metric='euclidean')\n",
        "knn.fit(X_projected)"
      ],
      "execution_count": 0,
      "outputs": [
        {
          "output_type": "execute_result",
          "data": {
            "text/plain": [
              "NearestNeighbors(algorithm='auto', leaf_size=30, metric='euclidean',\n",
              "                 metric_params=None, n_jobs=None, n_neighbors=6, p=2,\n",
              "                 radius=1.0)"
            ]
          },
          "metadata": {
            "tags": []
          },
          "execution_count": 18
        }
      ]
    },
    {
      "cell_type": "code",
      "metadata": {
        "id": "-Y6qIOSFaFuy",
        "colab_type": "code",
        "colab": {}
      },
      "source": [
        "Liste_voisins = knn.kneighbors(X_projected, return_distance=False)"
      ],
      "execution_count": 0,
      "outputs": []
    },
    {
      "cell_type": "code",
      "metadata": {
        "id": "-UDurr7XaPdh",
        "colab_type": "code",
        "colab": {}
      },
      "source": [
        "def get_reco(id):\n",
        "    Liste_brand=[]\n",
        "    for i in range(1,6):        \n",
        "        Liste_brand.append(Liste_voisins[id,i])\n",
        "    return Liste_brand "
      ],
      "execution_count": 0,
      "outputs": []
    },
    {
      "cell_type": "code",
      "metadata": {
        "id": "09YZi9Wjarp6",
        "colab_type": "code",
        "colab": {}
      },
      "source": [
        "def Affichage(id):\n",
        "    print ('Recommandation for the Brand {} with KNN: '.format(brand_table[\"Brands\"].iloc[[id]].item()) )\n",
        "    Liste_f = get_reco(id)\n",
        "    counter = 0\n",
        "    \n",
        "    for i in range(0,5):\n",
        "                    \n",
        "        print('Brand {} Recommended: {}'.format(counter+1,brand_table[\"Brands\"].iloc[[Liste_f[i]]].item()) )\n",
        "        counter+=1\n",
        "        \n",
        "        if counter == 5:\n",
        "            break"
      ],
      "execution_count": 0,
      "outputs": []
    },
    {
      "cell_type": "code",
      "metadata": {
        "id": "mFuhK4cMbcwL",
        "colab_type": "code",
        "outputId": "60f1df86-b220-4515-8662-d1742ec7aa2d",
        "colab": {
          "base_uri": "https://localhost:8080/",
          "height": 119
        }
      },
      "source": [
        "Affichage(18)"
      ],
      "execution_count": 0,
      "outputs": [
        {
          "output_type": "stream",
          "text": [
            "Recommandation for the Brand CHRISTIAN LOUBOUTIN with KNN: \n",
            "Brand 1 Recommended: DIEGO DOLCINI\n",
            "Brand 2 Recommended: MASQUÉ\n",
            "Brand 3 Recommended: CZO\n",
            "Brand 4 Recommended: ALEXA WAGNER\n",
            "Brand 5 Recommended: MANOLO BLAHNIK\n"
          ],
          "name": "stdout"
        }
      ]
    },
    {
      "cell_type": "markdown",
      "metadata": {
        "id": "2H_w4nTYIEns",
        "colab_type": "text"
      },
      "source": [
        "<h2> User Recommendation -- Brand recommendation on Behavior </h2>"
      ]
    },
    {
      "cell_type": "code",
      "metadata": {
        "id": "pmuJUVRKIOU2",
        "colab_type": "code",
        "colab": {}
      },
      "source": [
        "user_table.Interest_Brand = user_table.Interest_Brand.str.lstrip(',')\n",
        "user_table.Interest_Brand = user_table.Interest_Brand.str.rstrip(',')\n",
        "user_table.Low_interest = user_table.Low_interest.str.lstrip(',')\n",
        "user_table.Low_interest = user_table.Low_interest.str.rstrip(',')"
      ],
      "execution_count": 0,
      "outputs": []
    },
    {
      "cell_type": "code",
      "metadata": {
        "id": "vMpBOZzMR7qK",
        "colab_type": "code",
        "colab": {}
      },
      "source": [
        "def get_brand(id):\n",
        "            \n",
        "    return list(user_table[user_table.UserID==user_table[\"UserID\"].iloc[[id]].item()].Interest_Brand)[0].split(\",\")"
      ],
      "execution_count": 0,
      "outputs": []
    },
    {
      "cell_type": "code",
      "metadata": {
        "id": "3mavpoKDS-c2",
        "colab_type": "code",
        "colab": {}
      },
      "source": [
        "def get_low_int(id):\n",
        "    \n",
        "    return list(user_table[user_table.UserID==user_table[\"UserID\"].iloc[[id]].item()].Low_interest)[0].split(\",\")"
      ],
      "execution_count": 0,
      "outputs": []
    },
    {
      "cell_type": "code",
      "metadata": {
        "id": "CybbLauRUu77",
        "colab_type": "code",
        "colab": {}
      },
      "source": [
        "def get_id(name):\n",
        "    return brand_table.index[brand_table['Brands']==name].item()"
      ],
      "execution_count": 0,
      "outputs": []
    },
    {
      "cell_type": "code",
      "metadata": {
        "id": "gDMIyyYFRtqX",
        "colab_type": "code",
        "colab": {}
      },
      "source": [
        "import random\n",
        "\n",
        "def user_reco(id):\n",
        "    \n",
        "    list_brand = get_brand(id)\n",
        "    list_low = get_low_int(id)\n",
        "    full_list = []\n",
        "    Liste_reco = []\n",
        "    \n",
        "    for i in range(len(list_brand)):\n",
        "        \n",
        "        Liste_f = get_reco(get_id(list_brand[i]))\n",
        "        \n",
        "        for j in range(0,5):\n",
        "            \n",
        "            full_list.append(brand_table[\"Brands\"].iloc[[Liste_f[j]]].item())\n",
        "    \n",
        "    full_list = list(set(full_list))\n",
        "    \n",
        "    if len(full_list)==5:\n",
        "        Liste_reco = full_list\n",
        "    \n",
        "    else:\n",
        "        random.shuffle(full_list)\n",
        "        counter = 0\n",
        "        \n",
        "        for i in range(len(full_list)):\n",
        "            \n",
        "            if full_list[i] not in list_brand and full_list[i] not in list_low:\n",
        "                \n",
        "                Liste_reco.append(full_list[i])\n",
        "                counter+=1\n",
        "            \n",
        "            if counter == 5:\n",
        "                break\n",
        "    \n",
        "            \n",
        "    return Liste_reco"
      ],
      "execution_count": 0,
      "outputs": []
    },
    {
      "cell_type": "code",
      "metadata": {
        "id": "Oj_XHmw0Y3m1",
        "colab_type": "code",
        "colab": {}
      },
      "source": [
        "def display_user(id):\n",
        "    \n",
        "    list_reco = user_reco(id)\n",
        "    \n",
        "    print ('Recommandation for the user {} with KNN: '.format(user_table[\"UserID\"].iloc[[id]].item()) )\n",
        "    \n",
        "    for i in range(len(list_reco)):\n",
        "        \n",
        "        print('Brand {} Recommended: {}'.format(i+1,list_reco[i]) )\n",
        "        \n",
        "        "
      ],
      "execution_count": 0,
      "outputs": []
    },
    {
      "cell_type": "code",
      "metadata": {
        "id": "xXkQdTJOYMQ9",
        "colab_type": "code",
        "outputId": "e6c15590-8823-4602-de5e-4076c5513d3d",
        "colab": {
          "base_uri": "https://localhost:8080/",
          "height": 119
        }
      },
      "source": [
        "display_user(1)"
      ],
      "execution_count": 0,
      "outputs": [
        {
          "output_type": "stream",
          "text": [
            "Recommandation for the user 0x96D2E60551F80B7AE46EE722C30221B0 with KNN: \n",
            "Brand 1 Recommended: VALENTINO GARAVANI\n",
            "Brand 2 Recommended: DSQUARED2\n",
            "Brand 3 Recommended: SAINT LAURENT\n",
            "Brand 4 Recommended: DIESEL\n",
            "Brand 5 Recommended: Giuseppe Zanotti Design\n"
          ],
          "name": "stdout"
        }
      ]
    },
    {
      "cell_type": "markdown",
      "metadata": {
        "id": "Ato8OJKTFBTR",
        "colab_type": "text"
      },
      "source": [
        "<h2> Recommendation with double input (Brand + User) </h2>"
      ]
    },
    {
      "cell_type": "code",
      "metadata": {
        "id": "PA7HR7meFGmv",
        "colab_type": "code",
        "colab": {}
      },
      "source": [
        "def double_display(brand_id, user_id):\n",
        "    \n",
        "    Affichage(brand_id)\n",
        "    print(\"\")\n",
        "    display_user(user_id)\n",
        "    "
      ],
      "execution_count": 0,
      "outputs": []
    },
    {
      "cell_type": "code",
      "metadata": {
        "id": "O6fKgvoSGC45",
        "colab_type": "code",
        "outputId": "cc7b9b18-9c7e-49c4-c8a4-fb3ff7cd849a",
        "colab": {
          "base_uri": "https://localhost:8080/",
          "height": 238
        }
      },
      "source": [
        "double_display(18,3)"
      ],
      "execution_count": 0,
      "outputs": [
        {
          "output_type": "stream",
          "text": [
            "Recommandation for the Brand CHRISTIAN LOUBOUTIN with KNN: \n",
            "Brand 1 Recommended: DIEGO DOLCINI\n",
            "Brand 2 Recommended: MASQUÉ\n",
            "Brand 3 Recommended: CZO\n",
            "Brand 4 Recommended: ALEXA WAGNER\n",
            "Brand 5 Recommended: MANOLO BLAHNIK\n",
            "\n",
            "Recommandation for the user 0xA841752499FF55CFF73856B1847EE978 with KNN: \n",
            "Brand 1 Recommended: GIVENCHY\n",
            "Brand 2 Recommended: ALEXANDER MCQUEEN\n",
            "Brand 3 Recommended: DSQUARED2\n",
            "Brand 4 Recommended: LANVIN\n",
            "Brand 5 Recommended: SAINT LAURENT\n"
          ],
          "name": "stdout"
        }
      ]
    },
    {
      "cell_type": "markdown",
      "metadata": {
        "id": "a5GyzLm5c9q3",
        "colab_type": "text"
      },
      "source": [
        "<h2> User Recommendation -- Collaborative Filtering -> Not efficient on this dataset </h2>"
      ]
    },
    {
      "cell_type": "markdown",
      "metadata": {
        "id": "rSKCxP8iHyl4",
        "colab_type": "text"
      },
      "source": [
        "<h3> Preprocessing </h3>"
      ]
    },
    {
      "cell_type": "code",
      "metadata": {
        "id": "u_D8GtfSbfNs",
        "colab_type": "code",
        "outputId": "7cde7e57-aac2-40db-8e28-8dfea2e1db35",
        "colab": {
          "base_uri": "https://localhost:8080/",
          "height": 142
        }
      },
      "source": [
        "user_table.head(3)"
      ],
      "execution_count": 0,
      "outputs": [
        {
          "output_type": "execute_result",
          "data": {
            "text/html": [
              "<div>\n",
              "<style scoped>\n",
              "    .dataframe tbody tr th:only-of-type {\n",
              "        vertical-align: middle;\n",
              "    }\n",
              "\n",
              "    .dataframe tbody tr th {\n",
              "        vertical-align: top;\n",
              "    }\n",
              "\n",
              "    .dataframe thead th {\n",
              "        text-align: right;\n",
              "    }\n",
              "</style>\n",
              "<table border=\"1\" class=\"dataframe\">\n",
              "  <thead>\n",
              "    <tr style=\"text-align: right;\">\n",
              "      <th></th>\n",
              "      <th>UserID</th>\n",
              "      <th>HasUsedWishlist</th>\n",
              "      <th>Interest_Brand</th>\n",
              "      <th>Low_interest</th>\n",
              "    </tr>\n",
              "  </thead>\n",
              "  <tbody>\n",
              "    <tr>\n",
              "      <th>0</th>\n",
              "      <td>0x0D3056570A0D90872B31C6F414DF021D</td>\n",
              "      <td>Yes</td>\n",
              "      <td>SAM EDELMAN,TOD'S,DOLCE &amp; GABBANA,JIMMY CHOO,J...</td>\n",
              "      <td></td>\n",
              "    </tr>\n",
              "    <tr>\n",
              "      <th>1</th>\n",
              "      <td>0x96D2E60551F80B7AE46EE722C30221B0</td>\n",
              "      <td>No</td>\n",
              "      <td>GIVENCHY</td>\n",
              "      <td></td>\n",
              "    </tr>\n",
              "    <tr>\n",
              "      <th>2</th>\n",
              "      <td>0x69093F1011A2BD322D8A87009A8494AC</td>\n",
              "      <td>No</td>\n",
              "      <td>GIANVITO ROSSI</td>\n",
              "      <td></td>\n",
              "    </tr>\n",
              "  </tbody>\n",
              "</table>\n",
              "</div>"
            ],
            "text/plain": [
              "                               UserID HasUsedWishlist  \\\n",
              "0  0x0D3056570A0D90872B31C6F414DF021D             Yes   \n",
              "1  0x96D2E60551F80B7AE46EE722C30221B0              No   \n",
              "2  0x69093F1011A2BD322D8A87009A8494AC              No   \n",
              "\n",
              "                                      Interest_Brand Low_interest  \n",
              "0  SAM EDELMAN,TOD'S,DOLCE & GABBANA,JIMMY CHOO,J...               \n",
              "1                                           GIVENCHY               \n",
              "2                                     GIANVITO ROSSI               "
            ]
          },
          "metadata": {
            "tags": []
          },
          "execution_count": 23
        }
      ]
    },
    {
      "cell_type": "code",
      "metadata": {
        "id": "3S72Pdv6GLxI",
        "colab_type": "code",
        "colab": {}
      },
      "source": [
        "user_table.Interest_Brand = user_table.Interest_Brand.str.lstrip(',')\n",
        "user_table.Interest_Brand = user_table.Interest_Brand.str.rstrip(',')"
      ],
      "execution_count": 0,
      "outputs": []
    },
    {
      "cell_type": "code",
      "metadata": {
        "id": "FiNgXuFPGi_F",
        "colab_type": "code",
        "colab": {}
      },
      "source": [
        "user_table.Low_interest = user_table.Low_interest.str.lstrip(',')\n",
        "user_table.Low_interest = user_table.Low_interest.str.rstrip(',')"
      ],
      "execution_count": 0,
      "outputs": []
    },
    {
      "cell_type": "code",
      "metadata": {
        "id": "ZIvu-9aXJGTg",
        "colab_type": "code",
        "colab": {}
      },
      "source": [
        "dummy_interest = user_table['Interest_Brand'].str.get_dummies(sep=',')"
      ],
      "execution_count": 0,
      "outputs": []
    },
    {
      "cell_type": "code",
      "metadata": {
        "id": "54priI2GJ00f",
        "colab_type": "code",
        "colab": {}
      },
      "source": [
        "import pickle\n",
        "\n",
        "pickle.dump(dummy_interest, open('/content/gdrive/My Drive/Interview/Reco/dummy_interest.pkl','wb'))"
      ],
      "execution_count": 0,
      "outputs": []
    },
    {
      "cell_type": "code",
      "metadata": {
        "id": "XSUg8dH_KCUt",
        "colab_type": "code",
        "colab": {}
      },
      "source": [
        "dummy_low = user_table['Low_interest'].str.get_dummies(sep=',')"
      ],
      "execution_count": 0,
      "outputs": []
    },
    {
      "cell_type": "code",
      "metadata": {
        "id": "IlOd5J9WKoD4",
        "colab_type": "code",
        "colab": {}
      },
      "source": [
        "dummy_wish = user_table['HasUsedWishlist'].str.get_dummies(sep=',')"
      ],
      "execution_count": 0,
      "outputs": []
    },
    {
      "cell_type": "code",
      "metadata": {
        "id": "QGvt4Hz_Ky4W",
        "colab_type": "code",
        "colab": {}
      },
      "source": [
        "X = np.hstack((dummy_interest.values,dummy_low.values,dummy_wish.values))"
      ],
      "execution_count": 0,
      "outputs": []
    },
    {
      "cell_type": "markdown",
      "metadata": {
        "id": "5jzqdSK6IFPr",
        "colab_type": "text"
      },
      "source": [
        "<h3> Dimension Reduction </h3>"
      ]
    },
    {
      "cell_type": "code",
      "metadata": {
        "id": "ReY_s2ZGHu3e",
        "colab_type": "code",
        "colab": {}
      },
      "source": [
        "from sklearn.decomposition import PCA"
      ],
      "execution_count": 0,
      "outputs": []
    },
    {
      "cell_type": "code",
      "metadata": {
        "id": "4S6iRsgnIMaI",
        "colab_type": "code",
        "outputId": "a53b0bb0-7be7-417b-cafc-237821bd2191",
        "colab": {
          "base_uri": "https://localhost:8080/",
          "height": 295
        }
      },
      "source": [
        "#Fitting the PCA algorithm with our Data\n",
        "pca = PCA().fit(X)\n",
        "\n",
        "#Plotting the Cumulative Summation of the Explained Variance\n",
        "plt.figure()\n",
        "plt.plot(np.cumsum(pca.explained_variance_ratio_))\n",
        "plt.xlabel('Number of Components')\n",
        "plt.ylabel('Variance Explained (%)') #for each component\n",
        "plt.title('Pulsar Dataset Explained Variance')\n",
        "plt.show()"
      ],
      "execution_count": 0,
      "outputs": [
        {
          "output_type": "display_data",
          "data": {
            "image/png": "[encoded data removed]",
            "text/plain": [
              "<Figure size 432x288 with 1 Axes>"
            ]
          },
          "metadata": {
            "tags": []
          }
        }
      ]
    },
    {
      "cell_type": "code",
      "metadata": {
        "id": "XBnbFkPiISxB",
        "colab_type": "code",
        "outputId": "7abb72fb-76f8-49aa-d804-2b94b4a1ca85",
        "colab": {
          "base_uri": "https://localhost:8080/",
          "height": 51
        }
      },
      "source": [
        "from sklearn import decomposition\n",
        "\n",
        "pca = decomposition.PCA(n_components=400)\n",
        "pca.fit(X)"
      ],
      "execution_count": 0,
      "outputs": [
        {
          "output_type": "execute_result",
          "data": {
            "text/plain": [
              "PCA(copy=True, iterated_power='auto', n_components=400, random_state=None,\n",
              "    svd_solver='auto', tol=0.0, whiten=False)"
            ]
          },
          "metadata": {
            "tags": []
          },
          "execution_count": 16
        }
      ]
    },
    {
      "cell_type": "code",
      "metadata": {
        "id": "zZhv3cudLpBL",
        "colab_type": "code",
        "outputId": "8d31700b-1f2d-4bc6-ec80-9149f29d1636",
        "colab": {
          "base_uri": "https://localhost:8080/",
          "height": 34
        }
      },
      "source": [
        "print (pca.explained_variance_ratio_.sum())"
      ],
      "execution_count": 0,
      "outputs": [
        {
          "output_type": "stream",
          "text": [
            "0.9292999704111696\n"
          ],
          "name": "stdout"
        }
      ]
    },
    {
      "cell_type": "code",
      "metadata": {
        "id": "VDhY0SahL56K",
        "colab_type": "code",
        "colab": {}
      },
      "source": [
        "X_projected = pca.transform(X)"
      ],
      "execution_count": 0,
      "outputs": []
    },
    {
      "cell_type": "markdown",
      "metadata": {
        "id": "vDMFQKpqMKYF",
        "colab_type": "text"
      },
      "source": [
        "<h3> Modeling to find closest users profile </h3>"
      ]
    },
    {
      "cell_type": "code",
      "metadata": {
        "id": "02Dp82DbL_OR",
        "colab_type": "code",
        "colab": {}
      },
      "source": [
        "from sklearn.neighbors import NearestNeighbors"
      ],
      "execution_count": 0,
      "outputs": []
    },
    {
      "cell_type": "code",
      "metadata": {
        "id": "hY1WHC7BMUd-",
        "colab_type": "code",
        "outputId": "dbd328d1-e2ea-4243-bfed-f1da2d908fcf",
        "colab": {
          "base_uri": "https://localhost:8080/",
          "height": 68
        }
      },
      "source": [
        "knn = NearestNeighbors(n_neighbors=6,p=2,metric='euclidean')\n",
        "knn.fit(X_projected)"
      ],
      "execution_count": 0,
      "outputs": [
        {
          "output_type": "execute_result",
          "data": {
            "text/plain": [
              "NearestNeighbors(algorithm='auto', leaf_size=30, metric='euclidean',\n",
              "                 metric_params=None, n_jobs=None, n_neighbors=6, p=2,\n",
              "                 radius=1.0)"
            ]
          },
          "metadata": {
            "tags": []
          },
          "execution_count": 20
        }
      ]
    },
    {
      "cell_type": "code",
      "metadata": {
        "id": "knpgpkyTMbnX",
        "colab_type": "code",
        "colab": {}
      },
      "source": [
        "Liste_voisins = knn.kneighbors(X_projected, return_distance=False)"
      ],
      "execution_count": 0,
      "outputs": []
    },
    {
      "cell_type": "code",
      "metadata": {
        "id": "X5uVVrgHRRki",
        "colab_type": "code",
        "colab": {}
      },
      "source": [
        "import pickle\n",
        "\n",
        "pickle.dump(Liste_voisins, open('/content/gdrive/My Drive/Interview/Reco/voisin_users.pkl','wb'))"
      ],
      "execution_count": 0,
      "outputs": []
    },
    {
      "cell_type": "code",
      "metadata": {
        "id": "yft8HEq3Raj2",
        "colab_type": "code",
        "colab": {}
      },
      "source": [
        "def get_reco(id):\n",
        "    Liste_brand=[]\n",
        "    for i in range(1,6):        \n",
        "        Liste_brand.append(Liste_voisins[id,i])\n",
        "    return Liste_brand "
      ],
      "execution_count": 0,
      "outputs": []
    },
    {
      "cell_type": "code",
      "metadata": {
        "id": "kLQaVe0eUmJ6",
        "colab_type": "code",
        "colab": {}
      },
      "source": [
        "def Get_User(id):\n",
        "    \n",
        "    Liste_f = get_reco(id)\n",
        "    Liste_users = []\n",
        "    counter = 0\n",
        "    \n",
        "    for i in range(0,5):\n",
        "                    \n",
        "        Liste_users.append(user_table[\"UserID\"].iloc[[Liste_f[i]]].item())\n",
        "        counter+=1\n",
        "        \n",
        "        if counter == 5:\n",
        "            break\n",
        "            \n",
        "    return Liste_users"
      ],
      "execution_count": 0,
      "outputs": []
    },
    {
      "cell_type": "code",
      "metadata": {
        "id": "fSDZey29Zc3R",
        "colab_type": "code",
        "colab": {}
      },
      "source": [
        "def flatten(liste):\n",
        "    \n",
        "    new_list = []\n",
        "    \n",
        "    for i in range(len(liste)):\n",
        "        \n",
        "        split = liste[i].split(\",\")\n",
        "        for j in range(len(split)):\n",
        "            \n",
        "            if split[j] not in new_list:\n",
        "                \n",
        "                new_list.append(split[j])\n",
        "                \n",
        "    return new_list"
      ],
      "execution_count": 0,
      "outputs": []
    },
    {
      "cell_type": "code",
      "metadata": {
        "id": "cfvnYTdNWGjk",
        "colab_type": "code",
        "colab": {}
      },
      "source": [
        "def colab_reco(id):\n",
        "    \n",
        "    Liste_users = Get_User(id)\n",
        "    \n",
        "    Liste_brands = list(user_table[user_table.UserID.isin(Liste_users)].Interest_Brand)\n",
        "    \n",
        "    Liste_brands = flatten(Liste_brands)\n",
        "    \n",
        "    Liste_reco = []\n",
        "    \n",
        "    for i in range(len(Liste_brands)):\n",
        "        \n",
        "        if Liste_brands[i] not in list(user_table[user_table.UserID==user_table[\"UserID\"].iloc[[id]].item()].Interest_Brand)[0].split(\",\") and Liste_brands[i] not in list(user_table[user_table.UserID==user_table[\"UserID\"].iloc[[id]].item()].Low_interest)[0].split(\",\"):\n",
        "            \n",
        "            Liste_reco.append(Liste_brands[i])\n",
        "            \n",
        "            if len(Liste_reco)==5:\n",
        "                return Liste_reco\n",
        "        \n",
        "    if len(Liste_reco)==0:\n",
        "            \n",
        "        Liste_reco = list(user_table[user_table.UserID==user_table[\"UserID\"].iloc[[id]].item()].Interest_Brand)[0].split(\",\")\n",
        "            \n",
        "    return Liste_reco\n",
        "                 \n",
        "    \n",
        "    \n",
        "    "
      ],
      "execution_count": 0,
      "outputs": []
    },
    {
      "cell_type": "code",
      "metadata": {
        "id": "sy59vC11U7Sx",
        "colab_type": "code",
        "outputId": "0c3f17f0-5aad-480e-b73a-aa038295fb45",
        "colab": {
          "base_uri": "https://localhost:8080/",
          "height": 34
        }
      },
      "source": [
        "colab_reco(1)"
      ],
      "execution_count": 0,
      "outputs": [
        {
          "output_type": "execute_result",
          "data": {
            "text/plain": [
              "['PEIR WU', 'COMME DES GARÇONS HOMME VINTAGE', 'DELVAUX VINTAGE', 'EGREY']"
            ]
          },
          "metadata": {
            "tags": []
          },
          "execution_count": 132
        }
      ]
    },
    {
      "cell_type": "code",
      "metadata": {
        "id": "ujEuNowFcqfr",
        "colab_type": "code",
        "outputId": "cf6c1964-0195-4913-d049-07ccc8b19cfd",
        "colab": {
          "base_uri": "https://localhost:8080/",
          "height": 102
        }
      },
      "source": [
        "Get_User(1)"
      ],
      "execution_count": 0,
      "outputs": [
        {
          "output_type": "execute_result",
          "data": {
            "text/plain": [
              "['0x38B1E7A4571CD68743DF7FE8F07804DB',\n",
              " '0x517AC112D15F21BFF53B257372049688',\n",
              " '0x9F5E07B1CCCD14F428CCF1CE7E24A161',\n",
              " '0x1564FFC75E8E3DF36A7EE8B96FC1C358',\n",
              " '0x3020150997E00B7D6D8820AD7DE20526']"
            ]
          },
          "metadata": {
            "tags": []
          },
          "execution_count": 91
        }
      ]
    },
    {
      "cell_type": "code",
      "metadata": {
        "id": "EK2JViOgd2ij",
        "colab_type": "code",
        "outputId": "f90f0ae3-0fcd-422e-b381-e3fc6284a4b0",
        "colab": {
          "base_uri": "https://localhost:8080/",
          "height": 119
        }
      },
      "source": [
        "user_table[user_table.UserID.isin(Get_User(320))].Interest_Brand"
      ],
      "execution_count": 0,
      "outputs": [
        {
          "output_type": "execute_result",
          "data": {
            "text/plain": [
              "5528                             PEIR WU\n",
              "20587    COMME DES GARÇONS HOMME VINTAGE\n",
              "20789                                   \n",
              "39197                    DELVAUX VINTAGE\n",
              "43540                              EGREY\n",
              "Name: Interest_Brand, dtype: object"
            ]
          },
          "metadata": {
            "tags": []
          },
          "execution_count": 133
        }
      ]
    },
    {
      "cell_type": "code",
      "metadata": {
        "id": "qooAnbyxd97Z",
        "colab_type": "code",
        "outputId": "4ca3ceaa-9618-4a44-ed26-2a3467ddd189",
        "colab": {
          "base_uri": "https://localhost:8080/",
          "height": 51
        }
      },
      "source": [
        "user_table[user_table.UserID==user_table[\"UserID\"].iloc[[0]].item()].Interest_Brand"
      ],
      "execution_count": 0,
      "outputs": [
        {
          "output_type": "execute_result",
          "data": {
            "text/plain": [
              "0    SAM EDELMAN,TOD'S,DOLCE & GABBANA,JIMMY CHOO,J...\n",
              "Name: Interest_Brand, dtype: object"
            ]
          },
          "metadata": {
            "tags": []
          },
          "execution_count": 74
        }
      ]
    },
    {
      "cell_type": "code",
      "metadata": {
        "id": "SxJuzEJHepAb",
        "colab_type": "code",
        "colab": {}
      },
      "source": [
        ""
      ],
      "execution_count": 0,
      "outputs": []
    }
  ]
}